{
 "cells": [
  {
   "cell_type": "code",
   "execution_count": 1,
   "id": "81d9cf97",
   "metadata": {},
   "outputs": [],
   "source": [
    "import os, sys\n",
    "import pandas as pd\n",
    "import datetime\n",
    "import numpy as np\n",
    "import matplotlib.pylab as pl\n",
    "import matplotlib.pyplot as plt\n",
    "import locale # para fechas y nombres de fechas en español\n",
    "from scipy.stats import norm"
   ]
  },
  {
   "cell_type": "code",
   "execution_count": 2,
   "id": "3255edc3",
   "metadata": {},
   "outputs": [],
   "source": [
    "import seaborn as sns\n",
    "sns.set_style(\"whitegrid\")"
   ]
  },
  {
   "cell_type": "code",
   "execution_count": 35,
   "id": "27acec86",
   "metadata": {},
   "outputs": [],
   "source": [
    "df_original = pd.read_csv(\n",
    "        PATH_TO_READ, \n",
    "        sep = \";\",           # <--- Punto y coma\n",
    "        decimal = \",\",       # <--- Coma decimal\n",
    "        encoding = 'utf-8',  # <--- Usar UTF-8 para anular el locale\n",
    "        engine = 'python'    # <--- Motor Python\n",
    "    )"
   ]
  },
  {
   "cell_type": "code",
   "execution_count": 36,
   "id": "c0f72e2e",
   "metadata": {},
   "outputs": [
    {
     "data": {
      "text/html": [
       "<div>\n",
       "<style scoped>\n",
       "    .dataframe tbody tr th:only-of-type {\n",
       "        vertical-align: middle;\n",
       "    }\n",
       "\n",
       "    .dataframe tbody tr th {\n",
       "        vertical-align: top;\n",
       "    }\n",
       "\n",
       "    .dataframe thead th {\n",
       "        text-align: right;\n",
       "    }\n",
       "</style>\n",
       "<table border=\"1\" class=\"dataframe\">\n",
       "  <thead>\n",
       "    <tr style=\"text-align: right;\">\n",
       "      <th></th>\n",
       "      <th>fabricacion</th>\n",
       "      <th>est</th>\n",
       "      <th>mg</th>\n",
       "      <th>ph</th>\n",
       "      <th>cloruros</th>\n",
       "      <th>coliformes</th>\n",
       "    </tr>\n",
       "    <tr>\n",
       "      <th>fecha</th>\n",
       "      <th></th>\n",
       "      <th></th>\n",
       "      <th></th>\n",
       "      <th></th>\n",
       "      <th></th>\n",
       "      <th></th>\n",
       "    </tr>\n",
       "  </thead>\n",
       "  <tbody>\n",
       "    <tr>\n",
       "      <th>2020-01-11</th>\n",
       "      <td>1</td>\n",
       "      <td>46.68</td>\n",
       "      <td>24.0</td>\n",
       "      <td>4.85</td>\n",
       "      <td>1.50</td>\n",
       "      <td>80.0</td>\n",
       "    </tr>\n",
       "    <tr>\n",
       "      <th>2020-01-12</th>\n",
       "      <td>1</td>\n",
       "      <td>48.09</td>\n",
       "      <td>25.0</td>\n",
       "      <td>4.67</td>\n",
       "      <td>1.61</td>\n",
       "      <td>0.0</td>\n",
       "    </tr>\n",
       "    <tr>\n",
       "      <th>2020-01-13</th>\n",
       "      <td>1</td>\n",
       "      <td>45.97</td>\n",
       "      <td>24.0</td>\n",
       "      <td>4.71</td>\n",
       "      <td>1.48</td>\n",
       "      <td>9200.0</td>\n",
       "    </tr>\n",
       "    <tr>\n",
       "      <th>2020-01-14</th>\n",
       "      <td>1</td>\n",
       "      <td>46.24</td>\n",
       "      <td>23.5</td>\n",
       "      <td>4.78</td>\n",
       "      <td>1.69</td>\n",
       "      <td>20.0</td>\n",
       "    </tr>\n",
       "    <tr>\n",
       "      <th>2020-01-15</th>\n",
       "      <td>1</td>\n",
       "      <td>45.81</td>\n",
       "      <td>23.0</td>\n",
       "      <td>4.77</td>\n",
       "      <td>1.56</td>\n",
       "      <td>150.0</td>\n",
       "    </tr>\n",
       "  </tbody>\n",
       "</table>\n",
       "</div>"
      ],
      "text/plain": [
       "            fabricacion    est    mg    ph  cloruros  coliformes\n",
       "fecha                                                           \n",
       "2020-01-11            1  46.68  24.0  4.85      1.50        80.0\n",
       "2020-01-12            1  48.09  25.0  4.67      1.61         0.0\n",
       "2020-01-13            1  45.97  24.0  4.71      1.48      9200.0\n",
       "2020-01-14            1  46.24  23.5  4.78      1.69        20.0\n",
       "2020-01-15            1  45.81  23.0  4.77      1.56       150.0"
      ]
     },
     "execution_count": null,
     "metadata": {},
     "output_type": "execute_result"
    }
   ],
   "source": [
    "df.head()"
   ]
  },
  {
   "cell_type": "code",
   "execution_count": null,
   "id": "7d97a256",
   "metadata": {},
   "outputs": [],
   "source": []
  }
 ],
 "metadata": {
  "language_info": {
   "name": "python"
  }
 },
 "nbformat": 4,
 "nbformat_minor": 5
}
