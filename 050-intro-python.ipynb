{
 "cells": [
  {
   "cell_type": "markdown",
   "metadata": {
    "id": "3vNPNZzUGpDa"
   },
   "source": [
    "# Introducción a Python en el entorno Google Colab"
   ]
  },
  {
   "cell_type": "markdown",
   "metadata": {
    "id": "ZjN4r4wDIGSM"
   },
   "source": [
    "Python es un lenguaje de programación. Para trabajar con el lenguaje, se han desarrollado diferentes interfaces que mejoran el manejo del programa y facilitan el trabajo.\n",
    "\n",
    "Nosotros utilizaremos Google Colaborate, conocido como [Colaboratory](https://colab.research.google.com/) o simplemente, Google Colab, basado en [Jupyter](https://jupyter.org/), entorno originalmente desarrollado para Python y que se ha convertido en universal para muchos lenguajes de programación. En este entorno, podemos escribir código y ejecutarlo. También podemos escribir en celdas de texto, lo que nos permite intercalar explicaciones a nuestros cálculos o cualquier otro contenido escrito.\n",
    "\n",
    "En este cuaderno vamos a ver algunas características de `Python` que resultan importantes para nuestro objetivo de análisis de datos industriales. Usaremos para ello fuentes de datos disponibles en la web y veremos diferentes aplicaciones del lenguaje sobre dichas fuentes de datos. Aunque el código resulte complejo a primera vista, el objetivo es simplemente una toma de contacto, en cuadernos sucesivos veremos datos reales y aplicación a la industria láctea."
   ]
  },
  {
   "cell_type": "markdown",
   "metadata": {},
   "source": [
    "Con el fin de ayudar al desarrollo de la sesión de estudio, este cuaderno se puede seguir en el texto a continuación o puede ser abierto en Colab para trabajar directamente sobre él. Una vez abierto, es conveniente guardarlo en el espacio de Colab en el Google Drive de cada uno. "
   ]
  },
  {
   "cell_type": "markdown",
   "metadata": {
    "id": "uqUa1_dcTbuC"
   },
   "source": [
    "[Abrir cuaderno de introducción a `Python`en Google Colab/](https://colab.research.google.com/github/juanriera/master-queseria/blob/master/colab/01-intro-python.ipynb)"
   ]
  },
  {
   "cell_type": "markdown",
   "metadata": {},
   "source": [
    "[Desargar los datos de ejemplo del archivo `camembert.csv`]((https://raw.githubusercontent.com/juanriera/master-queseria/master/datos/camembert.csv'))"
   ]
  },
  {
   "cell_type": "markdown",
   "metadata": {
    "id": "P-xudxZOglTo"
   },
   "source": [
    "## Cómo usar este cuaderno\n",
    "- Si has abierto el cuaderno en Colab por primera vez, sigue estos pasos:\n",
    "  1. Guarda una copia en tu carpeta de Google Drive. Para ello, vete a `Archivo/Guardar una copia en Drive` y guárdalo.\n",
    "  2. Una vez guardada la copia, puedes cambiar el nombre en 'Archivo/Cambiar nombre`, o bien directamente haciendo *click* sobre el nombre en la parte superior de la hoja.\n",
    "  3. SI usas la versión web de Drive (abriendo el Drive en el navegador), posiblemente tendrás activada la opción de abrir los cuadernos que tengas en tu carpeta usando el botón derecho de tu ratón.\n",
    "  \n",
    "- Si vas a crear una hoja nueva (en blanco) mediante el enlace a Google Colaborate, sigue estos pasos:\n",
    "  1. Haz click en el enlace a continuacion https://colab.research.google.com/, o copia y pega el texto en la barra de navegación de tu navegador, o simplemente introduce \"Google Colab\" en la barra de búsqueda y haz click sobre el resultado correcto de la búsqueda, irás directamente al sitio.\n",
    "  2. Abre un cuaderno nuevo.\n",
    "  3. Guarda una copia en `Archivo/Guardar una copia como`\n",
    "  4. Renombra la hoja en `Archivo/Cambiar nombre` usando el nombre que quieras\n",
    "\n",
    "En este cuaderno usaremos varios archivos de datos de demostración, ya existentes en diversas fuentes de Python, que nos servirán para hacer diferentes ejercicios numéricos y gráficos. "
   ]
  },
  {
   "cell_type": "markdown",
   "metadata": {
    "id": "lFF0AKxelYP5"
   },
   "source": [
    "## Primeros pasos"
   ]
  },
  {
   "cell_type": "markdown",
   "metadata": {
    "id": "qWEUQCL2mbX8"
   },
   "source": [
    "Colab funciona en un entorno **Jupyter** En este entorno, el texto y el código `Python`se introducen en **celdas**."
   ]
  },
  {
   "cell_type": "markdown",
   "metadata": {
    "id": "fj3uTIh3jt9d"
   },
   "source": [
    "Hay dos tipos de **celdas**: texto y código. En la parte superior de la ventana, puedes elegir el tipo que quieres insertar haciendo *click* en `+ Código` o bien en `+ Texto`"
   ]
  },
  {
   "cell_type": "markdown",
   "metadata": {
    "id": "2fT05IMfkTb4"
   },
   "source": [
    "Para editar una celda de texto existente, haz doble click sobre ella. Ahora puedes escribir usando las convenciones de código **markdown**. Cuando hayas terminado, ejecuta la celda para que Colab formatee y presente el texto."
   ]
  },
  {
   "cell_type": "markdown",
   "metadata": {
    "id": "Gzpv3fy0XiNY"
   },
   "source": [
    "Para ejecutar una celda de código, haz click sobre ella.\n",
    "\n",
    "- `Shift-Enter`ejecuta el código *y pasa a la siguiente celda*.\n",
    "- `Ctrl-Enter`ejecuta el código *y permanece en la misma celda*\n",
    "\n",
    "Recuerda también que las celdas de código deben ejecutarse en orden secuencial desde el principio\n",
    "\n",
    "Si la ejecución de una celda de código produce un error, no te preocupes, no tiene consecuencias graves. Simplemente, edita el código y corrige el error. En muchos casos, Google Gemini te puede ayudar a detectar los errores en el código y reescribirlo correctamente."
   ]
  },
  {
   "cell_type": "markdown",
   "metadata": {
    "id": "gLwGqBAcJwyW"
   },
   "source": [
    "## Cálculos simples con python\n",
    "En su forma más básica, python se puede utilizar como una simple calculadora, utilizando los siguientes operadores aritméticos:\n",
    "\n",
    "Adición: $+$  (Ejemplo: $2+2$)\n",
    "\n",
    "Resta: $-$ (Ejemplo: $2-2$)\n",
    "\n",
    "Multiplicación: $*$ (Ejemplo: $2*2$)\n",
    "\n",
    "División: $/$ (Ejemplo: $2/2$)\n",
    "\n",
    "Exponenciación: ** (Ejemplo: $2$**$2$)\n",
    "\n",
    "Prueba a ejecutar las siguientes celdas:"
   ]
  },
  {
   "cell_type": "code",
   "execution_count": 1,
   "metadata": {
    "id": "8dnotT0uKKVK"
   },
   "outputs": [
    {
     "data": {
      "text/plain": [
       "4"
      ]
     },
     "execution_count": 1,
     "metadata": {},
     "output_type": "execute_result"
    }
   ],
   "source": [
    "2+2"
   ]
  },
  {
   "cell_type": "code",
   "execution_count": 2,
   "metadata": {
    "id": "1rMOP7okKNhi"
   },
   "outputs": [
    {
     "data": {
      "text/plain": [
       "0"
      ]
     },
     "execution_count": 2,
     "metadata": {},
     "output_type": "execute_result"
    }
   ],
   "source": [
    "2-2"
   ]
  },
  {
   "cell_type": "code",
   "execution_count": 3,
   "metadata": {
    "id": "uDQyZ9jtKP4-"
   },
   "outputs": [
    {
     "data": {
      "text/plain": [
       "4"
      ]
     },
     "execution_count": 3,
     "metadata": {},
     "output_type": "execute_result"
    }
   ],
   "source": [
    "2*2"
   ]
  },
  {
   "cell_type": "code",
   "execution_count": 4,
   "metadata": {
    "id": "ygod7WIgKRRY"
   },
   "outputs": [
    {
     "data": {
      "text/plain": [
       "1.0"
      ]
     },
     "execution_count": 4,
     "metadata": {},
     "output_type": "execute_result"
    }
   ],
   "source": [
    "2/2"
   ]
  },
  {
   "cell_type": "code",
   "execution_count": 5,
   "metadata": {
    "id": "8UYYcu26KVKm"
   },
   "outputs": [
    {
     "data": {
      "text/plain": [
       "4"
      ]
     },
     "execution_count": 5,
     "metadata": {},
     "output_type": "execute_result"
    }
   ],
   "source": [
    "2**2"
   ]
  },
  {
   "cell_type": "code",
   "execution_count": 6,
   "metadata": {
    "id": "488kpDlLRF4b"
   },
   "outputs": [
    {
     "data": {
      "text/plain": [
       "6.0"
      ]
     },
     "execution_count": 6,
     "metadata": {},
     "output_type": "execute_result"
    }
   ],
   "source": [
    "(3*4)/2"
   ]
  },
  {
   "cell_type": "markdown",
   "metadata": {
    "id": "9MYTrUTCKYrR"
   },
   "source": [
    "## Creación y asignación de variables\n",
    "\n",
    "Una variable permite almacenar un valor (por ejemplo, 4) o un objeto (por ejemplo, una descripción de función). Más tarde se puede usar el nombre de esta variable para acceder fácilmente al valor o al objeto que está almacenado dentro de ella.\n",
    "\n",
    "Podemos imaginar este concepto como una estantería llena de celdas vacías, en las cuales podemos colocar diferentes objetos: números, letras, frases, etc La variable es el espacio que almacena un valor, y que podemos *llamar* u obtener simplemente escribiendo su nombre.\n",
    "\n",
    "En python, una variable es un *objeto*. Podemos asignar *valores* a ese objeto, como si colocásemos libros en nuestra estantería. Esta asignación se hace siempre con el operador de asignación `=`, en la forma\n",
    "\n",
    "$nombre\\_de\\_objeto = valor$\n",
    "\n",
    "Por ejemplo, asignaremos un valor 4 a una variable que se llame `mi_var` con el operador de asignación de la siguiente forma:\n",
    "\n",
    "$mi\\_var = 4$\n",
    "\n",
    "Recuerda que ahora estamos en una **celda de texto**; prueba a hacer la asignación en la **celda de código** a continuación, añadiendo el operador de asignación y ejecutando la celda con `Mayus-Intro`:"
   ]
  },
  {
   "cell_type": "code",
   "execution_count": 7,
   "metadata": {
    "id": "FE1IMiYCL0zR"
   },
   "outputs": [],
   "source": [
    "#| eval: false\n",
    "\n",
    "mi_var 4"
   ]
  },
  {
   "cell_type": "markdown",
   "metadata": {
    "id": "rW0VfvRYNS4i"
   },
   "source": [
    "Una vez que asignamos un valor a una variable, python recuerda su valor hasta que lo cambiemos mediante una nueva asignación, borremos la variable, o finalicemos nuestra sesión.\n",
    "\n",
    "Para ver el contenido del objeto(lo que hemos almacenado en `mi_var`), escribimos el nombre y ejecutamos la celda (sólo si hemos editado y ejecutado correctamente la celda anterior, en caso contrario obtendremos un error porque `mi_var` no está definida):"
   ]
  },
  {
   "cell_type": "code",
   "execution_count": 8,
   "metadata": {
    "id": "c1Rpg0j8NodS"
   },
   "outputs": [],
   "source": [
    "#| eval: false\n",
    "\n",
    "mi_var"
   ]
  },
  {
   "cell_type": "markdown",
   "metadata": {
    "id": "FMgHVawzonAl"
   },
   "source": [
    "## Cómo establecer los nombres de variables"
   ]
  },
  {
   "cell_type": "markdown",
   "metadata": {
    "id": "kDFh1BUVL_1N"
   },
   "source": [
    "Para facilitar la legibilidad del código, los nombres de variables en python deben cumplir algunas normas generales. Buscaremos siempre que los nombres de los objetos sean descriptivos, por lo que necesitamos una forma de unir varias palabras."
   ]
  },
  {
   "cell_type": "markdown",
   "metadata": {
    "id": "i1WCuPlEn8D1"
   },
   "source": [
    "Las convenciones más aceptadas para la designación de nombres de variables en Python se basan principalmente en la **PEP 8**, la guía de estilo oficial para el código Python. Aquí te resumo los puntos clave:\n",
    "\n",
    "1.  **Snake Case (Recomendado para variables y funciones):**\n",
    "    * Para nombres de variables y funciones que constan de varias palabras, se utiliza **`snake_case`**, donde las palabras se escriben en minúscula y se separan por guiones bajos.\n",
    "    * Ejemplos: `mi_variable`, `nombre_completo`, `calcular_total`.\n",
    "\n",
    "2.  **Camel Case (Para clases):**\n",
    "    * Para nombres de **clases**, se utiliza **`CamelCase`** (también conocido como PascalCase), donde cada palabra comienza con mayúscula y no hay separadores.\n",
    "    * Ejemplos: `MiClase`, `GestionDeUsuarios`, `HttpRequest`.\n",
    "\n",
    "3.  **Constantes (Mayúsculas con guiones bajos):**\n",
    "    * Para constantes (variables cuyo valor no debería cambiar durante la ejecución del programa), se utiliza **`ALL_CAPS`** con guiones bajos para separar las palabras.\n",
    "    * Ejemplos: `MAX_VALOR`, `PI`, `TASA_INTERES`.\n",
    "\n",
    "4.  **Reglas generales (obligatorias por el lenguaje):**\n",
    "    * **Longitud:** Las variables pueden tener cualquier longitud.\n",
    "    * **Caracteres permitidos:** Pueden contener letras (mayúsculas y minúsculas), números y guiones bajos (`_`).\n",
    "    * **No pueden empezar con un número:** Un nombre de variable no puede comenzar con un dígito.\n",
    "    * **Sensibilidad a mayúsculas y minúsculas:** Python distingue entre mayúsculas y minúsculas. `mi_variable` y `Mi_Variable` son nombres de variables diferentes.\n",
    "    * **Evitar palabras reservadas:** No se pueden usar palabras reservadas de Python (como `if`, `else`, `for`, `while`, etc.) como nombres de variables.\n",
    "    * **No usar caracteres especiales:** No se permiten espacios, signos de puntuación u otros símbolos especiales.\n",
    "\n",
    "5.  **Recomendaciones de estilo:**\n",
    "    * **Nombres descriptivos:** Elige nombres de variables que sean claros y descriptivos, que reflejen su propósito en el programa. Esto mejora la legibilidad del código.\n",
    "    * **Evitar nombres de una sola letra:** A menos que sean contadores simples (`i`, `j`, `k` en bucles) o iteradores, es mejor evitar nombres de variables de una sola letra.\n",
    "    * **Evitar nombres que se confundan:** Ten cuidado con letras que pueden confundirse fácilmente, como la `l` minúscula y el número `1`, o la `O` mayúscula y el número `0`.\n",
    "    * **Guiones bajos al principio (`_nombre`):** Un solo guion bajo al principio (`_`) suele indicar que una variable o función es \"interna\" o \"no pública\" dentro de un módulo o clase. Es una convención, no una restricción estricta.\n",
    "    * **Dobles guiones bajos al principio (`__nombre`):** Los dobles guiones bajos al principio de un nombre de atributo de clase (`__nombre`) activan el \"name mangling\" (mutilación de nombre) de Python, que hace que el atributo sea más difícil de acceder directamente desde fuera de la clase, actuando como una forma de \"privacidad\".\n",
    "\n",
    "Seguir estas convenciones, especialmente las de la PEP 8, ayuda a que tu código sea más consistente, legible y fácil de entender por otros desarrolladores (y por ti mismo en el futuro)."
   ]
  },
  {
   "cell_type": "markdown",
   "metadata": {
    "id": "_1GaNV0cnlUB"
   },
   "source": [
    "Usemos un nombre realmente largo para designar a una variable:"
   ]
  },
  {
   "cell_type": "code",
   "execution_count": 9,
   "metadata": {
    "id": "TyT1hO7WL-6v"
   },
   "outputs": [],
   "source": [
    "este_es_un_nombre_realmente_largo = 5.3"
   ]
  },
  {
   "cell_type": "markdown",
   "metadata": {
    "id": "z00nEWMZO5L0"
   },
   "source": [
    "Ahora recuperemos el valor que hemos almacenado"
   ]
  },
  {
   "cell_type": "code",
   "execution_count": 10,
   "metadata": {
    "id": "mSNljcf_O0Vu"
   },
   "outputs": [
    {
     "data": {
      "text/plain": [
       "5.3"
      ]
     },
     "execution_count": 8,
     "metadata": {},
     "output_type": "execute_result"
    }
   ],
   "source": [
    "este_es_un_nombre_realmente_largo"
   ]
  },
  {
   "cell_type": "markdown",
   "metadata": {
    "id": "8p-SlEJUPJIZ"
   },
   "source": [
    "Recuerda que python utiliza la escritura anglosajona para la separación de decimales, usando un punto, y no una coma como en España. ¿Qué pasaría si utilizamos una coma para separar los decimales?"
   ]
  },
  {
   "cell_type": "code",
   "execution_count": 11,
   "metadata": {
    "id": "DiyQKjxPPGnT"
   },
   "outputs": [],
   "source": [
    "mi_var = 2,5"
   ]
  },
  {
   "cell_type": "markdown",
   "metadata": {
    "id": "r8cEt0ZNPnGc"
   },
   "source": [
    "Python acepta la asignación, pero cuando investigamos la variable, el resultado es diferente de lo que esperábamos, no obtenemos un valor numérico:"
   ]
  },
  {
   "cell_type": "code",
   "execution_count": 12,
   "metadata": {
    "id": "awzgEiWATx6f"
   },
   "outputs": [
    {
     "data": {
      "text/plain": [
       "(2, 5)"
      ]
     },
     "execution_count": 10,
     "metadata": {},
     "output_type": "execute_result"
    }
   ],
   "source": [
    "mi_var"
   ]
  },
  {
   "cell_type": "markdown",
   "metadata": {
    "id": "1ufOFsRdT1ze"
   },
   "source": [
    "Python ha entendido que estábamos creando una *tupla* de dos valores (2 y 5)\n",
    "(en python, una *tupla* es una colección ordenada e inmutable de elementos)"
   ]
  },
  {
   "cell_type": "markdown",
   "metadata": {
    "id": "JHZ_kewVP6Kb"
   },
   "source": [
    "Para python las mayúsculas y minúsculas son diferentes: `mi_var` y `mi_Var` son variables diferentes."
   ]
  },
  {
   "cell_type": "markdown",
   "metadata": {
    "id": "2DoEGn9-QRqY"
   },
   "source": [
    "En una variable python podemos almacenar también texto:"
   ]
  },
  {
   "cell_type": "code",
   "execution_count": 13,
   "metadata": {
    "id": "pQj72mBIP47w"
   },
   "outputs": [],
   "source": [
    "mi_var = \"Esto es una frase 12345\""
   ]
  },
  {
   "cell_type": "markdown",
   "metadata": {
    "id": "EqDhsdErQitJ"
   },
   "source": [
    "Python almacena esta *cadena alfanumérica* exactamente igual que antes hizo con los valores numéricos:"
   ]
  },
  {
   "cell_type": "code",
   "execution_count": 14,
   "metadata": {
    "id": "pbCJwNJFPmRe"
   },
   "outputs": [
    {
     "data": {
      "text/plain": [
       "'Esto es una frase 12345'"
      ]
     },
     "execution_count": 12,
     "metadata": {},
     "output_type": "execute_result"
    }
   ],
   "source": [
    "mi_var"
   ]
  },
  {
   "cell_type": "code",
   "execution_count": 15,
   "metadata": {
    "id": "FncAqLqohfl0"
   },
   "outputs": [],
   "source": [
    "mi_var = 123.45"
   ]
  },
  {
   "cell_type": "code",
   "execution_count": 16,
   "metadata": {
    "id": "XsCviAJYhjmC"
   },
   "outputs": [
    {
     "data": {
      "text/plain": [
       "123.45"
      ]
     },
     "execution_count": 14,
     "metadata": {},
     "output_type": "execute_result"
    }
   ],
   "source": [
    "mi_var"
   ]
  },
  {
   "cell_type": "code",
   "execution_count": 17,
   "metadata": {
    "id": "l0RpGLptilpo"
   },
   "outputs": [
    {
     "data": {
      "text/plain": [
       "617.25"
      ]
     },
     "execution_count": 15,
     "metadata": {},
     "output_type": "execute_result"
    }
   ],
   "source": [
    "mi_var*5"
   ]
  },
  {
   "cell_type": "markdown",
   "metadata": {
    "id": "1NuJXwG2Qxjp"
   },
   "source": [
    "Para almacenar una *cadena alfanumérica* necesitamos encerrarla entre comillas, ya sean sencillas o dobles. De hecho, si almacenamos un número entre comillas, python no va aidentificarlo como un número, sino como un texto:"
   ]
  },
  {
   "cell_type": "code",
   "execution_count": 18,
   "metadata": {
    "id": "V6FRXDO0Pm3E"
   },
   "outputs": [],
   "source": [
    "mi_var = \"123.45\""
   ]
  },
  {
   "cell_type": "code",
   "execution_count": 19,
   "metadata": {
    "id": "6hQhlDuSPjpY"
   },
   "outputs": [
    {
     "data": {
      "text/plain": [
       "'123.45'"
      ]
     },
     "execution_count": 17,
     "metadata": {},
     "output_type": "execute_result"
    }
   ],
   "source": [
    "mi_var"
   ]
  },
  {
   "cell_type": "code",
   "execution_count": 20,
   "metadata": {
    "id": "7wqaT45rhsKY"
   },
   "outputs": [
    {
     "data": {
      "text/plain": [
       "'123.45123.45123.45123.45123.45'"
      ]
     },
     "execution_count": 18,
     "metadata": {},
     "output_type": "execute_result"
    }
   ],
   "source": [
    "mi_var*5"
   ]
  },
  {
   "cell_type": "markdown",
   "metadata": {
    "id": "7Gq794lMhz9Y"
   },
   "source": [
    "Como ahora `mi_var` es una cadena de letras, python interpreta `mi_var*5`no como una multiplicación, sino como una instrucción para repetir esa cadena de caracteres cinco veces."
   ]
  },
  {
   "cell_type": "markdown",
   "metadata": {
    "id": "ft03HW-ZRKN-"
   },
   "source": [
    "En el ejemplo que acabamos de hacer, seguro que te has dado cuenta  de que python permite **reutilizar** los objetos simplemente reasignándoles el valor correspondiente. Al hacerlo, perdemos el valor original y lo sustituimos por el nuevo valor.\n",
    "\n",
    "Hay que tener atención con las reglas de escritura: para asignar un texto a un objeto debemos tener cuidado de *cerrar* las comillas, si no lo hacemos, python nos advertirá del error:"
   ]
  },
  {
   "cell_type": "code",
   "execution_count": 21,
   "metadata": {
    "id": "2xNIWNGKO8x2"
   },
   "outputs": [],
   "source": [
    "#| eval: false\n",
    "\n",
    "mi_var = \"Esto es una cadena alfanumerica que no hemos cerrado"
   ]
  },
  {
   "cell_type": "markdown",
   "metadata": {
    "id": "1npQrvs_SX5h"
   },
   "source": [
    "### Algunos ejercicios"
   ]
  },
  {
   "cell_type": "markdown",
   "metadata": {
    "id": "-hd86o0qSawp"
   },
   "source": [
    "Intenta detectar los errores en las siguientes celdas de código:"
   ]
  },
  {
   "cell_type": "code",
   "execution_count": 22,
   "metadata": {
    "id": "LNQcNXNJSHRI"
   },
   "outputs": [],
   "source": [
    "#|eval: false\n",
    "\n",
    "mi_variable = 10\n",
    "mi_varıable"
   ]
  },
  {
   "cell_type": "code",
   "execution_count": 23,
   "metadata": {
    "id": "_daRW4SsSkvN"
   },
   "outputs": [],
   "source": [
    "#| eval: false\n",
    "\n",
    "mi_var = 5\n",
    "Mi_Var"
   ]
  },
  {
   "cell_type": "markdown",
   "metadata": {
    "id": "jfz4KmLRS17_"
   },
   "source": [
    "Podemos asignar un objeto a otro objeto con el operador de asignación:"
   ]
  },
  {
   "cell_type": "code",
   "execution_count": 24,
   "metadata": {
    "id": "Y9evcWkMTEm9"
   },
   "outputs": [],
   "source": [
    "x = 5\n",
    "y = 3"
   ]
  },
  {
   "cell_type": "code",
   "execution_count": 25,
   "metadata": {
    "id": "JO6TzJA6TKIm"
   },
   "outputs": [
    {
     "data": {
      "text/plain": [
       "8"
      ]
     },
     "execution_count": 20,
     "metadata": {},
     "output_type": "execute_result"
    }
   ],
   "source": [
    "x + y"
   ]
  },
  {
   "cell_type": "code",
   "execution_count": 26,
   "metadata": {
    "id": "Me6RtYF6TMHY"
   },
   "outputs": [],
   "source": [
    "y = x"
   ]
  },
  {
   "cell_type": "code",
   "execution_count": 27,
   "metadata": {
    "id": "CiC2RlIpTO10"
   },
   "outputs": [
    {
     "data": {
      "text/plain": [
       "10"
      ]
     },
     "execution_count": 22,
     "metadata": {},
     "output_type": "execute_result"
    }
   ],
   "source": [
    "x + y"
   ]
  },
  {
   "cell_type": "markdown",
   "metadata": {
    "id": "Fhl4luAPTBfC"
   },
   "source": [
    "Supongamos que tenemos 5 peras y 4 manzanas. Crea una variable que se llame `fruta` que sume el total de unidades de fruta que tenemos, insertando debajo de esta celda todas las celdas de código que necesites (Pista: ¡En `Python` sí podemos sumar `peras` con `manzanas`!)"
   ]
  },
  {
   "cell_type": "code",
   "execution_count": 28,
   "metadata": {
    "id": "HwbEWM181pFw"
   },
   "outputs": [
    {
     "name": "stdout",
     "output_type": "stream",
     "text": [
      "9\n"
     ]
    }
   ],
   "source": [
    "# Celda para el ejercicio de las frutas\n",
    "peras = 5\n",
    "manzanas = 4\n",
    "fruta = peras + manzanas\n",
    "print(fruta)"
   ]
  },
  {
   "cell_type": "markdown",
   "metadata": {
    "id": "kZFoKdLXUoPw"
   },
   "source": [
    "## Los tipos de datos\n",
    "\n",
    "Hemos visto que python puede trabajar con diferentes tipos de datos, tales como números y textos.\n",
    "\n",
    "Los valores decimales como 4.5 se llaman **flotantes**(`float`).\n",
    "Los números enteros como 4 se llaman **enteros**(`ìnt`). Los valores booleanos (VERDADERO o FALSO) se denominan **booleanos**(`bool` o `logical`).\n",
    "Los valores de texto (o cadena alfanumérica) se denominan **cadenas de caracteres**.  También se les llama simplemente **cadenas**.\n",
    "Las comillas en el editor indican que \"un texto entre comillas\" es una *cadena de caracteres*. En python, una cadena de caracteres puede escribirse entre comillas dobles, como `\"pera\"` o simples, como `'pera'`\n",
    "\n",
    "Algunos ejemplos:"
   ]
  },
  {
   "cell_type": "code",
   "execution_count": 29,
   "metadata": {
    "id": "7xkHdCXDT8a0"
   },
   "outputs": [],
   "source": [
    "mi_var_numero = 4.5\n",
    "mi_var_texto = \"esto es un texto\"\n",
    "mi_var_texto_2 = 'esto también es un texto'\n",
    "mi_var_logica = False"
   ]
  },
  {
   "cell_type": "markdown",
   "metadata": {
    "id": "PqGYvZ16Vosc"
   },
   "source": [
    "Las variables **lógicas** pueden tomar los valores `True` o `False` (recuerda que las mayúsculas son significativas en python: `False` no es lo mismo que `false` o `FALSE`). Python responde también con un valor lógico cuando hacemos una *evaluación lógica*. Por ejemplo,"
   ]
  },
  {
   "cell_type": "code",
   "execution_count": 30,
   "metadata": {
    "id": "0l_WFMKrViTj"
   },
   "outputs": [
    {
     "data": {
      "text/plain": [
       "True"
      ]
     },
     "execution_count": 25,
     "metadata": {},
     "output_type": "execute_result"
    }
   ],
   "source": [
    "mi_var_numero == 4.5"
   ]
  },
  {
   "cell_type": "code",
   "execution_count": 31,
   "metadata": {
    "id": "5x44cdGvYsNB"
   },
   "outputs": [
    {
     "data": {
      "text/plain": [
       "False"
      ]
     },
     "execution_count": 26,
     "metadata": {},
     "output_type": "execute_result"
    }
   ],
   "source": [
    "mi_var_texto == 4.5"
   ]
  },
  {
   "cell_type": "markdown",
   "metadata": {
    "id": "mtcQvnYWWRo5"
   },
   "source": [
    "Como en python se usa `=`  como operador de asignación, el operador lógico que prueba una igualdad es `==`, un doble igual, y no un `=`, un igual sencillo. La desigualdad se verifica con el operador `!=` que significa \"no es igual a\"."
   ]
  },
  {
   "cell_type": "code",
   "execution_count": 32,
   "metadata": {},
   "outputs": [],
   "source": []
  },
  {
   "cell_type": "markdown",
   "metadata": {
    "id": "kyF8rTqTW3ds"
   },
   "source": [
    "Veamos otros dos ejemplos que proporcionan una respuesta de valor lógico:"
   ]
  },
  {
   "cell_type": "code",
   "execution_count": 33,
   "metadata": {
    "id": "BIfZaRWJWv8l"
   },
   "outputs": [
    {
     "data": {
      "text/plain": [
       "False"
      ]
     },
     "execution_count": 27,
     "metadata": {},
     "output_type": "execute_result"
    }
   ],
   "source": [
    "mi_var_numero == 10"
   ]
  },
  {
   "cell_type": "code",
   "execution_count": 34,
   "metadata": {
    "id": "BN30-QevXAGN"
   },
   "outputs": [
    {
     "data": {
      "text/plain": [
       "False"
      ]
     },
     "execution_count": 28,
     "metadata": {},
     "output_type": "execute_result"
    }
   ],
   "source": [
    "mi_var_numero > 5"
   ]
  },
  {
   "cell_type": "code",
   "execution_count": 35,
   "metadata": {
    "id": "ssG_O_zoXWzZ"
   },
   "outputs": [
    {
     "data": {
      "text/plain": [
       "True"
      ]
     },
     "execution_count": 29,
     "metadata": {},
     "output_type": "execute_result"
    }
   ],
   "source": [
    "mi_var_numero != 5 # el operador != significa \"no es igual a\""
   ]
  },
  {
   "cell_type": "markdown",
   "metadata": {
    "id": "b2jr9sXpwl0C"
   },
   "source": [
    "## Las Funciones en Python: ¿Qué son y por qué las usamos?\n",
    "\n",
    "\n",
    "\n",
    "Hasta ahora hemos usado operadores aritméticos para realizar cálculos básicos y hemos asignado valores a variables. Pero, ¿qué pasa si queremos realizar tareas más complejas o repetir una misma operación muchas veces? Aquí es donde entran las **funciones**.\n",
    "\n",
    "Una función es un bloque de código organizado y reutilizable que se utiliza para realizar una única acción relacionada. Piensa en una función como una \"receta\" o un \"mini-programa\" que encapsula una serie de pasos. En lugar de escribir esos pasos una y otra vez, simplemente \"llamamos\" a la función por su nombre.\n",
    "\n",
    "**¿Por qué son útiles las funciones?**\n",
    "\n",
    "- **Reutilización de Código:** Evitan tener que escribir el mismo código varias veces.\n",
    "- **Modularidad:** Dividen el programa en partes más pequeñas y manejables.\n",
    "- **Claridad:** Hacen el código más fácil de leer y entender.\n",
    "\n",
    "Python ya trae consigo muchas **funciones integradas (*built-in functions*)** que podemos usar directamente. Veamos algunos ejemplos muy comunes:"
   ]
  },
  {
   "cell_type": "markdown",
   "metadata": {
    "id": "ayNPFRPCwz-g"
   },
   "source": [
    "### `print()`: Mostrar información\n",
    "\n",
    "Esta función ya la hemos usado. Nos permite mostrar valores, texto o el contenido de variables en la consola"
   ]
  },
  {
   "cell_type": "code",
   "execution_count": 36,
   "metadata": {
    "id": "46-5Ubdmw4-k"
   },
   "outputs": [
    {
     "name": "stdout",
     "output_type": "stream",
     "text": [
      "¡Hola, esto es una función!\n",
      "Mi nombre es: Juan\n"
     ]
    }
   ],
   "source": [
    "print(\"¡Hola, esto es una función!\")\n",
    "mi_nombre = \"Juan\"\n",
    "print(\"Mi nombre es:\", mi_nombre)"
   ]
  },
  {
   "cell_type": "markdown",
   "metadata": {
    "id": "kjhdlX6Ew8oT"
   },
   "source": [
    "### `len()`: Obtener la longitud\n",
    "Esta función nos devuelve el número de elementos de un objeto, como el número de caracteres en una cadena de texto o el número de elementos en una lista."
   ]
  },
  {
   "cell_type": "code",
   "execution_count": 37,
   "metadata": {
    "id": "hrDsAv8ZxDeP"
   },
   "outputs": [
    {
     "name": "stdout",
     "output_type": "stream",
     "text": [
      "La frase tiene 32 caracteres.\n",
      "Mi lista tiene 4 elementos.\n"
     ]
    }
   ],
   "source": [
    "frase = \"Programar en Python es divertido\"\n",
    "longitud_frase = len(frase)\n",
    "print(\"La frase tiene\", longitud_frase, \"caracteres.\")\n",
    "\n",
    "mi_lista_numeros = [10, 20, 30, 40]\n",
    "print(\"Mi lista tiene\", len(mi_lista_numeros), \"elementos.\")"
   ]
  },
  {
   "cell_type": "markdown",
   "metadata": {
    "id": "hCqo-5g7xBnJ"
   },
   "source": [
    "### `type()`: Conocer el tipo de dato\n",
    "Útil para verificar qué tipo de dato tiene una variable."
   ]
  },
  {
   "cell_type": "code",
   "execution_count": 38,
   "metadata": {
    "id": "vuks9qQqxND2"
   },
   "outputs": [
    {
     "name": "stdout",
     "output_type": "stream",
     "text": [
      "<class 'int'>\n",
      "<class 'str'>\n",
      "<class 'bool'>\n"
     ]
    }
   ],
   "source": [
    "mi_numero = 100\n",
    "mi_texto = \"Cien\"\n",
    "mi_booleano = True\n",
    "\n",
    "print(type(mi_numero))\n",
    "print(type(mi_texto))\n",
    "print(type(mi_booleano))"
   ]
  },
  {
   "cell_type": "markdown",
   "metadata": {
    "id": "DAalTYNCxPZ3"
   },
   "source": [
    "### ¿Cómo funcionan las funciones? Argumentos y Retorno\n",
    "\n",
    "\n",
    "\n",
    "- **Argumentos:** Muchas funciones necesitan información para poder trabajar. Esta información se les pasa entre paréntesis, y se llaman **argumentos**. Por ejemplo, a `print()` le pasamos lo que queremos mostrar.\n",
    "- **Retorno de Valores:** Algunas funciones realizan un cálculo o una operación y nos devuelven un resultado. Por ejemplo, `len()` nos devuelve un número.\n",
    "\n",
    "Entender las funciones es clave, porque las librerías que usaremos a continuación son, en esencia, grandes colecciones de funciones especializadas."
   ]
  },
  {
   "cell_type": "markdown",
   "metadata": {
    "id": "hth2XaBJxTGL"
   },
   "source": [
    "## Importando Herramientas: Bibliotecas y Módulos\n",
    "\n",
    "\n",
    "\n",
    "Python es un lenguaje muy potente, pero su verdadera fuerza reside en su vasto ecosistema de **bibliotecas** (también llamadas módulos o paquetes).\n",
    "\n",
    "Una **biblioteca** es una colección de código (funciones, clases, etc.) escrito por otros programadores y disponible para que tú lo uses en tus propios proyectos. Imagina que son \"cajas de herramientas\" especializadas:\n",
    "\n",
    "- ¿Necesitas hacer cálculos matemáticos complejos? Hay una librería para eso.\n",
    "- ¿Necesitas manipular datos en tablas? Hay una librería para eso.\n",
    "- ¿Necesitas crear gráficos? ¡También hay librerías para eso!\n",
    "\n",
    "Usar librerías nos permite evitar \"reinventar la rueda\", ahorrando mucho tiempo y esfuerzo, y aprovechando código que ya ha sido probado y optimizado.\n",
    "\n",
    "Para poder usar las funciones y herramientas que están dentro de una librería, primero debemos **importarla** a nuestro entorno de trabajo. La forma más común de hacerlo es con la instrucción `import`."
   ]
  },
  {
   "cell_type": "markdown",
   "metadata": {
    "id": "7JJHhYFZxWvS"
   },
   "source": [
    "### Sintaxis de `import`\n",
    "\n",
    "\n",
    "\n",
    "La sintaxis básica es:\n",
    "\n",
    "```\n",
    "import nombre_de_la_libreria\n",
    "```\n",
    "\n",
    "Sin embargo, para las librerías de análisis de datos, es muy común y recomendado usar un **alias** (un nombre corto) para hacer el código más conciso y fácil de leer. Esto se hace con la palabra clave `as`:\n",
    "\n",
    "```\n",
    "import nombre_de_la_libreria as alias\n",
    "```\n",
    "\n",
    "Ahora vamos a importar las librerías que serán esenciales para trabajar con datos, realizar cálculos estadísticos y crear gráficos en Python."
   ]
  },
  {
   "cell_type": "code",
   "execution_count": 39,
   "metadata": {
    "id": "mGXLiL6UxfnD"
   },
   "outputs": [
    {
     "name": "stdout",
     "output_type": "stream",
     "text": [
      "¡Librerías principales para el análisis de datos importadas correctamente!\n",
      "Ahora podemos acceder a sus funciones usando sus alias (pd, np, plt, sns).\n"
     ]
    }
   ],
   "source": [
    "# Importando las librerías fundamentales para el análisis de datos\n",
    "\n",
    "# Pandas: Es la librería principal para trabajar con estructuras de datos tabulares\n",
    "#         como Series (vectores) y DataFrames (tablas).\n",
    "import pandas as pd\n",
    "\n",
    "# NumPy: Proporciona soporte para arreglos (arrays) y matrices multidimensionales,\n",
    "#        además de funciones matemáticas de alto nivel. Pandas se construye sobre NumPy.\n",
    "import numpy as np\n",
    "\n",
    "# Matplotlib.pyplot: Es la librería base para crear gráficos en Python.\n",
    "#                    Seaborn la usa \"por debajo\" para dibujar.\n",
    "import matplotlib.pyplot as plt\n",
    "\n",
    "# Seaborn: Es una librería de visualización de datos de alto nivel\n",
    "#          basada en Matplotlib. Facilita la creación de gráficos estadísticos atractivos.\n",
    "import seaborn as sns\n",
    "\n",
    "print(\"¡Librerías principales para el análisis de datos importadas correctamente!\")\n",
    "print(\"Ahora podemos acceder a sus funciones usando sus alias (pd, np, plt, sns).\")"
   ]
  },
  {
   "cell_type": "markdown",
   "metadata": {
    "id": "-ie3Uhihxj7L"
   },
   "source": [
    "Una vez que hemos importado una librería con un alias (por ejemplo, `pandas as pd`), para usar una función de esa librería, escribimos el alias seguido de un punto y el nombre de la función: `pd.nombre_de_la_funcion()`."
   ]
  },
  {
   "cell_type": "markdown",
   "metadata": {
    "id": "8YRKeEXtxmfj"
   },
   "source": [
    "## Las principales estructuras de datos en Python para el análisis\n",
    "\n",
    "\n",
    "\n",
    "Ahora que entendemos las funciones y cómo importar librerías, podemos introducir las estructuras de datos que nos permitirán organizar y manipular nuestros datos de manera eficiente. Las dos más importantes en el contexto del análisis de datos con Python (y con la librería Pandas) son las **Series** y los **DataFrames**.\n",
    "\n",
    "\n",
    "\n",
    "### Series de `pandas` (El \"vector\" en `Python` para datos)\n",
    "\n",
    "\n",
    "\n",
    "Si en otros lenguajes de programación o herramientas estadísticas has trabajado con el concepto de \"vector\" (una secuencia de valores de un mismo tipo), el equivalente más directo en `Python`, usando `pandas`, es una **serie**.\n",
    "\n",
    "- **Concepto:** Una *serie* de `pandas` es un arreglo unidimensional (como una columna de una hoja de cálculo o un vector). Puede contener cualquier tipo de dato (números enteros, flotantes, texto, booleanos, etc.) y tiene un índice asociado para acceder a sus elementos.\n",
    "\n",
    "**Creación de una serie:** Podemos crear una Serie a partir de una lista de `Python`."
   ]
  },
  {
   "cell_type": "code",
   "execution_count": 40,
   "metadata": {
    "id": "suXKiYhqxsrQ"
   },
   "outputs": [
    {
     "name": "stdout",
     "output_type": "stream",
     "text": [
      "Mi Serie de Edades:\n",
      "0    25\n",
      "1    30\n",
      "2    22\n",
      "3    35\n",
      "4    28\n",
      "5    40\n",
      "6    33\n",
      "7    29\n",
      "dtype: int64\n"
     ]
    }
   ],
   "source": [
    "# Crear una lista de edades\n",
    "lista_edades = [25, 30, 22, 35, 28, 40, 33, 29]\n",
    "\n",
    "# Convertir la lista a una Serie de Pandas\n",
    "# Usamos 'pd.' porque la función Series() viene de la librería Pandas. Atención: la función se escribe con mayúsculas.\n",
    "edades_serie = pd.Series(lista_edades)\n",
    "\n",
    "print(\"Mi Serie de Edades:\")\n",
    "print(edades_serie)"
   ]
  },
  {
   "cell_type": "markdown",
   "metadata": {
    "id": "2HrA3a7txqot"
   },
   "source": [
    "**Operaciones básicas con series:** Las series tienen muchas funciones y métodos útiles. Por ejemplo, podemos calcular la media:"
   ]
  },
  {
   "cell_type": "code",
   "execution_count": 41,
   "metadata": {
    "id": "n9TLnsJdxyqB"
   },
   "outputs": [
    {
     "name": "stdout",
     "output_type": "stream",
     "text": [
      "\n",
      "Edad promedio: 30.25\n",
      "Edad máxima: 40\n",
      "Edad mínima: 22\n"
     ]
    }
   ],
   "source": [
    "print(\"\\nEdad promedio:\", edades_serie.mean()) # Usando el método .mean() de la Serie\n",
    "print(\"Edad máxima:\", edades_serie.max())\n",
    "print(\"Edad mínima:\", edades_serie.min())"
   ]
  },
  {
   "cell_type": "markdown",
   "metadata": {
    "id": "b7bPH5_yx4Fd"
   },
   "source": [
    "### DataFrames de Pandas (La \"Tabla\" o \"Hoja de Cálculo\")\n",
    "\n",
    "\n",
    "\n",
    "El **DataFrame** es la estructura de datos más importante y utilizada en `pandas` para el análisis de datos. Es el equivalente a una tabla en una base de datos, una hoja de cálculo de Excel, o un \"data frame\" en  `R`.\n",
    "\n",
    "- **Concepto:** Un DataFrame es una estructura bidimensional (filas y columnas). Piensa en ella como una colección de series (columnas) que comparten el mismo índice (las filas). Cada columna en un DataFrame es una serie de `pandas`.\n",
    "\n",
    "**Creación de un DataFrame (a partir de un diccionario):** Una forma sencilla de crear un DataFrame pequeño es a partir de un diccionario de `Python`, donde las claves del diccionario se convierten en los nombres de las columnas y los valores son listas que se convierten en las columnas."
   ]
  },
  {
   "cell_type": "code",
   "execution_count": 42,
   "metadata": {
    "id": "-yfNehbix9I9"
   },
   "outputs": [
    {
     "name": "stdout",
     "output_type": "stream",
     "text": [
      "\n",
      "DataFrame de Alumnos:\n",
      "  Nombre  Edad     Ciudad  Calificación\n",
      "0    Ana    24     Madrid           8.5\n",
      "1   Luis    30  Barcelona           7.2\n",
      "2  Marta    28   Valencia           9.1\n",
      "3  Pedro    35    Sevilla           6.8\n",
      "4  Sofía    26     Málaga           8.9\n"
     ]
    }
   ],
   "source": [
    "# Crear un diccionario con datos\n",
    "datos_alumnos = {\n",
    "    'Nombre': ['Ana', 'Luis', 'Marta', 'Pedro', 'Sofía'],\n",
    "    'Edad': [24, 30, 28, 35, 26],\n",
    "    'Ciudad': ['Madrid', 'Barcelona', 'Valencia', 'Sevilla', 'Málaga'],\n",
    "    'Calificación': [8.5, 7.2, 9.1, 6.8, 8.9]\n",
    "}\n",
    "\n",
    "# Crear un DataFrame a partir del diccionario\n",
    "df_alumnos = pd.DataFrame(datos_alumnos)\n",
    "\n",
    "print(\"\\nDataFrame de Alumnos:\")\n",
    "print(df_alumnos)"
   ]
  },
  {
   "cell_type": "markdown",
   "metadata": {
    "id": "l16LN3Qzx_yB"
   },
   "source": [
    "**Visualización y exploración básica de DataFrames:**\n",
    "\n",
    "Es fundamental poder echar un vistazo rápido a los datos una vez que están cargados en un DataFrame.\n",
    "\n",
    "- `df.head()`: Muestra las primeras 5 filas (útil para ver la estructura).\n",
    "- `df.tail()`: Muestra las últimas 5 filas.\n",
    "- `df.info()`: Proporciona un resumen conciso del DataFrame, incluyendo el número de entradas, columnas, tipos de datos no nulos y uso de memoria.\n",
    "- `df.describe()`: Genera estadísticas descriptivas (conteo, media, desviación estándar, etc.) de las columnas numéricas."
   ]
  },
  {
   "cell_type": "code",
   "execution_count": 43,
   "metadata": {
    "id": "L3FveqebyDHt"
   },
   "outputs": [
    {
     "name": "stdout",
     "output_type": "stream",
     "text": [
      "\n",
      "Primeras 3 filas del DataFrame de alumnos:\n",
      "  Nombre  Edad     Ciudad  Calificación\n",
      "0    Ana    24     Madrid           8.5\n",
      "1   Luis    30  Barcelona           7.2\n",
      "2  Marta    28   Valencia           9.1\n",
      "\n",
      "Información del DataFrame de alumnos:\n",
      "<class 'pandas.core.frame.DataFrame'>\n",
      "RangeIndex: 5 entries, 0 to 4\n",
      "Data columns (total 4 columns):\n",
      " #   Column        Non-Null Count  Dtype  \n",
      "---  ------        --------------  -----  \n",
      " 0   Nombre        5 non-null      object \n",
      " 1   Edad          5 non-null      int64  \n",
      " 2   Ciudad        5 non-null      object \n",
      " 3   Calificación  5 non-null      float64\n",
      "dtypes: float64(1), int64(1), object(2)\n",
      "memory usage: 292.0+ bytes\n",
      "\n",
      "Estadísticas descriptivas del DataFrame de alumnos:\n",
      "            Edad  Calificación\n",
      "count   5.000000      5.000000\n",
      "mean   28.600000      8.100000\n",
      "std     4.219005      1.036822\n",
      "min    24.000000      6.800000\n",
      "25%    26.000000      7.200000\n",
      "50%    28.000000      8.500000\n",
      "75%    30.000000      8.900000\n",
      "max    35.000000      9.100000\n"
     ]
    }
   ],
   "source": [
    "print(\"\\nPrimeras 3 filas del DataFrame de alumnos:\")\n",
    "print(df_alumnos.head(3)) # Podemos especificar el número de filas\n",
    "\n",
    "print(\"\\nInformación del DataFrame de alumnos:\")\n",
    "df_alumnos.info()\n",
    "\n",
    "print(\"\\nEstadísticas descriptivas del DataFrame de alumnos:\")\n",
    "print(df_alumnos.describe())"
   ]
  },
  {
   "cell_type": "markdown",
   "metadata": {
    "id": "-yfC8WC5yF2Y"
   },
   "source": [
    "**Selección de Columnas en un DataFrame:**\n",
    "\n",
    "Para trabajar con una columna específica de un DataFrame, la seleccionamos usando corchetes `[]` y el nombre de la columna entre comillas. El resultado será una Serie de Pandas."
   ]
  },
  {
   "cell_type": "code",
   "execution_count": 44,
   "metadata": {
    "id": "w4LUiOUUyKOO"
   },
   "outputs": [
    {
     "name": "stdout",
     "output_type": "stream",
     "text": [
      "\n",
      "Columna 'Edad' (como Serie):\n",
      "0    24\n",
      "1    30\n",
      "2    28\n",
      "3    35\n",
      "4    26\n",
      "Name: Edad, dtype: int64\n",
      "\n",
      "La calificación promedio de los alumnos es: 8.10\n"
     ]
    }
   ],
   "source": [
    "# Seleccionar la columna 'Edad'\n",
    "edades_alumnos = df_alumnos['Edad']\n",
    "print(\"\\nColumna 'Edad' (como Serie):\")\n",
    "print(edades_alumnos)\n",
    "\n",
    "# Calcular la media de la columna 'Calificación'\n",
    "media_calificacion = df_alumnos['Calificación'].mean()\n",
    "print(f\"\\nLa calificación promedio de los alumnos es: {media_calificacion:.2f}\")"
   ]
  },
  {
   "cell_type": "markdown",
   "metadata": {
    "id": "OzJNCQP4yMqu"
   },
   "source": [
    "## El *data frame* (continuación con ejemplo real)\n",
    "\n",
    "\n",
    "\n",
    "Ahora que conocemos los `DataFrames`, podemos entender mejor cómo leer datos reales. El marco de datos o *DataFrame* es el objeto más útil y más usado en el análisis de datos. Consiste en una estructura de dos dimensiones, formada por una serie de vectores de igual longitud, igual que una tabla de una hoja de cálculo, en la que cada columna es una variable y cada fila, un caso, observación o individuo. Algunas bibliotecas Python incluyen *data frames* de muestra, que son útiles para entender cómo están formados.\n",
    "\n",
    "Veamos uno de ellos, el famoso conjunto de datos **[iris](https://es.wikipedia.org/wiki/Conjunto_de_datos_flor_iris)**, creada por el investigador y estadístico [Ronald Fisher](https://es.wikipedia.org/wiki/Ronald_Fisher), que contiene un conjunto de medidas realizadas sobre flores del género *Iris* realizadas por este investigador en los años 30 del siglo XX.\n",
    "\n",
    "Para cargar este conjunto de datos de ejemplo, vamos a utilizar una función de la librería `seaborn` que ya importamos:"
   ]
  },
  {
   "cell_type": "code",
   "execution_count": 45,
   "metadata": {
    "id": "RKIDP0qByRP0"
   },
   "outputs": [
    {
     "name": "stdout",
     "output_type": "stream",
     "text": [
      "Primeras 5 filas del dataset Iris:\n",
      "   sepal_length  sepal_width  petal_length  petal_width species\n",
      "0           5.1          3.5           1.4          0.2  setosa\n",
      "1           4.9          3.0           1.4          0.2  setosa\n",
      "2           4.7          3.2           1.3          0.2  setosa\n",
      "3           4.6          3.1           1.5          0.2  setosa\n",
      "4           5.0          3.6           1.4          0.2  setosa\n"
     ]
    }
   ],
   "source": [
    "# Cargamos el dataset 'iris' usando una función de Seaborn\n",
    "df_iris_sns = sns.load_dataset('iris')\n",
    "\n",
    "print(\"Primeras 5 filas del dataset Iris:\")\n",
    "print(df_iris_sns.head())"
   ]
  },
  {
   "cell_type": "markdown",
   "metadata": {
    "id": "BQksuKNkyUVX"
   },
   "source": [
    "La función `head()` es útil para presentarnos sólo el *encabezado* del *data frame*. Veamos la estructura de este *data frame* más a fondo:"
   ]
  },
  {
   "cell_type": "code",
   "execution_count": 46,
   "metadata": {
    "id": "ZmPfSWzRyZTy"
   },
   "outputs": [
    {
     "name": "stdout",
     "output_type": "stream",
     "text": [
      "\n",
      "Información general del DataFrame Iris:\n",
      "<class 'pandas.core.frame.DataFrame'>\n",
      "RangeIndex: 150 entries, 0 to 149\n",
      "Data columns (total 5 columns):\n",
      " #   Column        Non-Null Count  Dtype  \n",
      "---  ------        --------------  -----  \n",
      " 0   sepal_length  150 non-null    float64\n",
      " 1   sepal_width   150 non-null    float64\n",
      " 2   petal_length  150 non-null    float64\n",
      " 3   petal_width   150 non-null    float64\n",
      " 4   species       150 non-null    object \n",
      "dtypes: float64(4), object(1)\n",
      "memory usage: 6.0+ KB\n"
     ]
    }
   ],
   "source": [
    "print(\"\\nInformación general del DataFrame Iris:\")\n",
    "df_iris_sns.info()"
   ]
  },
  {
   "cell_type": "code",
   "execution_count": 47,
   "metadata": {
    "id": "i6UNktn63qc4"
   },
   "outputs": [
    {
     "name": "stdout",
     "output_type": "stream",
     "text": [
      "\n",
      "Estadísticas descriptivas de las columnas numéricas del DataFrame Iris:\n",
      "       sepal_length  sepal_width  petal_length  petal_width\n",
      "count    150.000000   150.000000    150.000000   150.000000\n",
      "mean       5.843333     3.057333      3.758000     1.199333\n",
      "std        0.828066     0.435866      1.765298     0.762238\n",
      "min        4.300000     2.000000      1.000000     0.100000\n",
      "25%        5.100000     2.800000      1.600000     0.300000\n",
      "50%        5.800000     3.000000      4.350000     1.300000\n",
      "75%        6.400000     3.300000      5.100000     1.800000\n",
      "max        7.900000     4.400000      6.900000     2.500000\n"
     ]
    }
   ],
   "source": [
    "print(\"\\nEstadísticas descriptivas de las columnas numéricas del DataFrame Iris:\")\n",
    "print(df_iris_sns.describe())"
   ]
  },
  {
   "cell_type": "markdown",
   "metadata": {
    "id": "LpxSB4dWybmu"
   },
   "source": [
    "Para utilizar una columna de un dataframe, la seleccionamos por su nombre:"
   ]
  },
  {
   "cell_type": "code",
   "execution_count": 48,
   "metadata": {
    "id": "-YpzUGAQyfNo"
   },
   "outputs": [
    {
     "name": "stdout",
     "output_type": "stream",
     "text": [
      "\n",
      "Contenido de la columna 'sepal_length':\n",
      "0      5.1\n",
      "1      4.9\n",
      "2      4.7\n",
      "3      4.6\n",
      "4      5.0\n",
      "      ... \n",
      "145    6.7\n",
      "146    6.3\n",
      "147    6.5\n",
      "148    6.2\n",
      "149    5.9\n",
      "Name: sepal_length, Length: 150, dtype: float64\n"
     ]
    }
   ],
   "source": [
    "print(\"\\nContenido de la columna 'sepal_length':\")\n",
    "print(df_iris_sns[\"sepal_length\"]) # podemos usar también la doble comilla para designar las columnas"
   ]
  },
  {
   "cell_type": "markdown",
   "metadata": {
    "id": "JNxLYxn0ym1S"
   },
   "source": [
    "Ahora que tenemos una columna seleccionada (que es una serie de `pandas`), podemos aplicar directamente funciones estadísticas sobre ella:"
   ]
  },
  {
   "cell_type": "code",
   "execution_count": 49,
   "metadata": {
    "id": "z3ZMNHa33wEE"
   },
   "outputs": [
    {
     "name": "stdout",
     "output_type": "stream",
     "text": [
      "\n",
      "La longitud media del sépalo es: 5.84\n"
     ]
    }
   ],
   "source": [
    "# Calculamos la media de la columna 'sepal_length'\n",
    "media_sepal_length = df_iris_sns[\"sepal_length\"].mean()\n",
    "print(f\"\\nLa longitud media del sépalo es: {media_sepal_length:.2f}\") # esta es una forma de dar formato al número para imprimirlo con dos decimales fijos"
   ]
  },
  {
   "cell_type": "code",
   "execution_count": 50,
   "metadata": {
    "id": "QtJri_2SysmL"
   },
   "outputs": [
    {
     "name": "stdout",
     "output_type": "stream",
     "text": [
      "La desviación estándar de la longitud del sépalo es: 0.83\n"
     ]
    }
   ],
   "source": [
    "# También podemos calcular la desviación estándar\n",
    "desviacion_sepal_length = df_iris_sns[\"sepal_length\"].std()\n",
    "print(f\"La desviación estándar de la longitud del sépalo es: {desviacion_sepal_length:.2f}\")"
   ]
  },
  {
   "cell_type": "markdown",
   "metadata": {
    "id": "q_D544UOyvXI"
   },
   "source": [
    "Con nuestros DataFrames cargados y la comprensión de las Series, podemos realizar rápidamente cálculos estadísticos básicos sobre nuestras columnas numéricas. Pandas hace que esto sea muy sencillo.\n",
    "\n",
    "- **Estadísticas Descriptivas Comunes:**\n",
    "  - `.mean()`: Media\n",
    "  - `.median()`: Mediana\n",
    "  - `.std()`: Desviación estándar\n",
    "  - `.min()`: Valor mínimo\n",
    "  - `.max()`: Valor máximo\n",
    "  - `.sum()`: Suma de todos los valores\n",
    "  - `.count()`: Número de valores no nulos\n",
    "\n",
    "Vamos a aplicar algunas de estas operaciones al DataFrame `df_iris_sns`:"
   ]
  },
  {
   "cell_type": "code",
   "execution_count": 51,
   "metadata": {
    "id": "e07fJ4QIy1-S"
   },
   "outputs": [
    {
     "name": "stdout",
     "output_type": "stream",
     "text": [
      "Estadísticas de 'petal_width' en el DataFrame Iris:\n",
      "Media de petal_width: 1.20\n",
      "Mediana de petal_width: 1.30\n",
      "Desviación estándar de petal_width: 0.76\n",
      "Valor mínimo de petal_width: 0.10\n",
      "Valor máximo de petal_width: 2.50\n",
      "Número de observaciones de petal_width: 150\n"
     ]
    }
   ],
   "source": [
    "print(\"Estadísticas de 'petal_width' en el DataFrame Iris:\")\n",
    "print(f\"Media de petal_width: {df_iris_sns['petal_width'].mean():.2f}\")\n",
    "print(f\"Mediana de petal_width: {df_iris_sns['petal_width'].median():.2f}\")\n",
    "print(f\"Desviación estándar de petal_width: {df_iris_sns['petal_width'].std():.2f}\")\n",
    "print(f\"Valor mínimo de petal_width: {df_iris_sns['petal_width'].min():.2f}\")\n",
    "print(f\"Valor máximo de petal_width: {df_iris_sns['petal_width'].max():.2f}\")\n",
    "print(f\"Número de observaciones de petal_width: {df_iris_sns['petal_width'].count()}\")"
   ]
  },
  {
   "cell_type": "markdown",
   "metadata": {
    "id": "sP3UWZXzy5n3"
   },
   "source": [
    "## Visualización de Datos con Seaborn y Matplotlib\n",
    "\n",
    "\n",
    "\n",
    "Una imagen vale más que mil palabras, y en el análisis de datos, la visualización es fundamental para entender patrones, distribuciones y relaciones en nuestros datos. En Python, las librerías `Matplotlib` y `Seaborn` son las herramientas estándar para crear gráficos.\n",
    "\n",
    "- **Matplotlib.pyplot (alias `plt`):** Es la base, una librería de bajo nivel que da un control muy granular sobre cada aspecto del gráfico.\n",
    "- **Seaborn (alias `sns`):** Construye sobre Matplotlib, ofreciendo una interfaz de alto nivel para crear gráficos estadísticos complejos y estéticamente agradables con menos código. Es ideal para explorar distribuciones, relaciones entre variables y comparaciones entre grupos.\n",
    "\n",
    "Siempre importamos ambas, ya que Seaborn a menudo usa funciones de Matplotlib para mostrar y personalizar los gráficos (como `plt.title()` para el título o `plt.show()` para mostrar el gráfico).\n",
    "\n",
    "El texto siguiente incluye el código para crear el gráfico, no te preocupes si no lo entiendes a la primera, iremos explicándolo línea a línea."
   ]
  },
  {
   "cell_type": "markdown",
   "metadata": {
    "id": "Ub2PynBGy-yc"
   },
   "source": [
    "### Ejemplo: Histograma de la longitud del sépalo (Distribución de una variable numérica)\n",
    "\n",
    "\n",
    "\n",
    "Un histograma nos permite ver cómo se distribuyen los valores de una variable numérica."
   ]
  },
  {
   "cell_type": "code",
   "execution_count": 52,
   "metadata": {
    "id": "oNhhCzUQzA5C"
   },
   "outputs": [
    {
     "data": {
      "image/png": "[encoded data removed]",
      "text/plain": [
       "<Figure size 672x480 with 1 Axes>"
      ]
     },
     "metadata": {},
     "output_type": "display_data"
    }
   ],
   "source": [
    "import matplotlib.pyplot as plt\n",
    "import seaborn as sns\n",
    "\n",
    "# Cargar el dataset iris\n",
    "iris = sns.load_dataset(\"iris\")\n",
    "\n",
    "# Crear el histograma\n",
    "sns.histplot(data=iris, x=\"sepal_length\", bins=20, kde=True, color=\"skyblue\", edgecolor=\"black\")\n",
    "\n",
    "# Añadir título y etiquetas\n",
    "plt.title(\"Distribución de Sepal Length en el dataset Iris\")\n",
    "plt.xlabel(\"Sepal Length (cm)\")\n",
    "plt.ylabel(\"Frecuencia\")\n",
    "\n",
    "# Mostrar el gráfico\n",
    "plt.show()"
   ]
  },
  {
   "cell_type": "markdown",
   "metadata": {},
   "source": [
    "**Explicación línea por línea**\n",
    "\n",
    "**1. `import seaborn as sns`**\n",
    "- Importa la biblioteca Seaborn con el alias `sns`.\n",
    "- Seaborn es una capa de alto nivel sobre Matplotlib, ideal para visualizaciones estadísticas.\n",
    "\n",
    "**2. `import matplotlib.pyplot as plt`**\n",
    "- Importa Matplotlib para controlar aspectos del gráfico como título, ejes y visualización.\n",
    "\n",
    "**3. `iris = sns.load_dataset(\"iris\")`**\n",
    "- Carga el conjunto de datos `iris` directamente desde Seaborn.\n",
    "- Este dataset contiene medidas de sépalos y pétalos de tres especies de iris.\n",
    "\n",
    "**4. `sns.histplot(...)`**\n",
    "Este es el núcleo del histograma. Vamos a desglosar cada argumento:\n",
    "\n",
    "| Parámetro       | Descripción |\n",
    "|----------------|-------------|\n",
    "| `data=iris`    | Indica que usaremos el DataFrame `iris` como fuente de datos. |\n",
    "| `x=\"sepal_length\"` | Especifica la variable que queremos graficar en el eje X. |\n",
    "| `bins=20`      | Divide el rango de valores en 20 intervalos (barras). Puedes ajustar este número para más o menos detalle. |\n",
    "| `kde=True`     | Añade una curva de densidad suavizada sobre el histograma. Útil para visualizar la forma de la distribución. |\n",
    "| `color=\"skyblue\"` | Cambia el color de las barras del histograma. Puedes usar nombres de colores o códigos hexadecimales. |\n",
    "| `edgecolor=\"black\"` | Añade bordes negros a cada barra para mejorar la legibilidad. |\n",
    "\n",
    "**5. `plt.title(...)`**\n",
    "- Añade un título descriptivo al gráfico.\n",
    "\n",
    "**6. `plt.xlabel(...)` y `plt.ylabel(...)`**\n",
    "- Etiquetan los ejes X e Y respectivamente, lo que es esencial para la interpretación del gráfico.\n",
    "\n",
    "**7. `plt.show()`**\n",
    "- Muestra el gráfico en pantalla. Sin esta línea, el gráfico no se renderiza en algunos entornos.\n",
    "\n",
    "En el capítulo siguiente veremos con detalle distintos tipos de gráficos y su construcción en Excel y en `Python`.\n"
   ]
  },
  {
   "cell_type": "markdown",
   "metadata": {},
   "source": [
    "## Cómo leer nuestros datos en `Python` desde Google Colaborate"
   ]
  },
  {
   "cell_type": "markdown",
   "metadata": {},
   "source": [
    "Hasta ahora hemos utilizado datos que hemos creado sobre la marcha, o hemos usado un conjunto de datos preexistente, como es el caso de los datos *Iris*.\n",
    "\n",
    "Ahora vamos a ver cómo podemos leer o utilizar nuestros propios datos, a partir de ficheros `CSV`. También podemos leer directamente nuestras hojas Excel."
   ]
  },
  {
   "cell_type": "markdown",
   "metadata": {},
   "source": [
    "### Opción 1: Subir los datos al espacio de trabajo de Google Colaborate"
   ]
  },
  {
   "cell_type": "markdown",
   "metadata": {},
   "source": [
    "Los pasos son los mismos tanto si queremos trabajar con un `CSV` o directamente con una hoja Excel:\n",
    "1. Dentro del entorno Colab, seleccionamos el icono de carpeta a la izquierda, que nos abre la barra lateral de `Archivos`\n",
    "2. Hacemos click sobre el icono de la hoja con la flecha vertical, lo que nos abre una ventana de selección de archivos.\n",
    "3. Seleccionamos la hoja de cálculo o `CSV`con la que vamos a trabajar y la subimos al espacio de trabajo de Google Colaborate\n",
    "\n",
    "Una vez la hoja de cálculo o el `CSV` en nuestro espacio de trabajo, procedemos a leer los datos.\n"
   ]
  },
  {
   "cell_type": "markdown",
   "metadata": {},
   "source": [
    "El mayor inconveniente de esta forma de trabajo es que cada vez que salimos de la sesión, Google Colab borra todos nuestros archivos del espacio de trabajo; cada vez que iniciemos una sesión, tendremos que repetir el proceso de subir nuestros datos al espacio de trabajo. Por eso, la mejor opción es tener nuestros datos en una carpeta de Google Drive, que puede utilizarse desde Colab tal como vamos a ver a continuación."
   ]
  },
  {
   "cell_type": "markdown",
   "metadata": {},
   "source": [
    "### Opción 2: Leer directamente los datos de nuestra carpeta de Google Drive\n",
    "Esta es una opción mucho más cómoda que nos evita los pasos intermedios, ya que no necesitamos subir la hoja de cálculo al espacio de trabajo."
   ]
  },
  {
   "cell_type": "markdown",
   "metadata": {},
   "source": [
    "Empezamos, como siempre, cargando las bibliotecas que nos proporcionan las funciones que vamos a utilizar durante el ejercicio. Aunque algunas no se usarán en la lectura de datos, en buenas prácticas es conveniente agrupar al principio del cuaderno todas las instrucciones de carga de bibliotecas en una misma celda."
   ]
  },
  {
   "cell_type": "code",
   "execution_count": 53,
   "metadata": {},
   "outputs": [],
   "source": [
    "import os\n",
    "import pandas as pd             # manejo de dataframes y series\n",
    "import matplotlib.pyplot as plt # funciones específicas de `matplotlib.pyplot`\n",
    "\n",
    "import seaborn as sns\n",
    "sns.set_style(\"whitegrid\") # estilo de `seaborn` con fondo blanco"
   ]
  },
  {
   "cell_type": "markdown",
   "metadata": {},
   "source": [
    "A continuación, la instrucciones para acceder a nuestro Google Drive y leer el archivo de datos."
   ]
  },
  {
   "cell_type": "code",
   "execution_count": 54,
   "metadata": {},
   "outputs": [],
   "source": [
    "#| eval: false\n",
    "\n",
    "# 1. Ejecuta esta celda para montar tu Google Drive.\n",
    "from google.colab import drive\n",
    "drive.mount('/content/drive')\n",
    "\n",
    "# 2. Verifica y ajusta esta ruta de archivo si es necesario:\n",
    "google_drive_path_folder = '/content/drive/MyDrive/'\n",
    "nombre_archivo_base = 'camembert.csv'\n",
    "nombre_archivo_completo = os.path.join(google_drive_path_folder, nombre_archivo_base)\n",
    "\n",
    "try:\n",
    "    df = pd.read_csv(nombre_archivo_completo, decimal = \",\", sep=';', encoding='ISO-8859-1')\n",
    "    print(\"¡Archivo \", nombre_archivo_base,\" cargado correctamente!\")\n",
    "    print(f\"Dimensiones de los datos: {df.shape}\")\n",
    "except Exception as e:\n",
    "    print(f\"Error al cargar el archivo: {e}\")"
   ]
  },
  {
   "cell_type": "markdown",
   "metadata": {},
   "source": [
    "### Explicación de los pasos:\n",
    "\n",
    "#### 1. Montar Google Drive\n",
    "\n",
    "| Línea | Explicación |\n",
    "|-------|------------|\n",
    "| `from google.colab import drive` | Importa el módulo `drive` de Google Colab para acceder a Google Drive. |\n",
    "| `drive.mount('/content/drive')` | Monta tu Google Drive en la ruta `/content/drive`. Te pedirá autorización la primera vez. |\n",
    "\n",
    "---\n",
    "\n",
    "#### 2. Definir ruta del archivo CSV\n",
    "\n",
    "| Línea | Explicación |\n",
    "|-------|------------|\n",
    "| `google_drive_path_folder = '/content/drive/MyDrive/'` | Ruta donde está el archivo dentro de Google Drive. |\n",
    "| `nombre_archivo_base = 'camembert.csv'` | Nombre del archivo CSV que se quiere cargar. |\n",
    "| `os.path.join(...)` | Une la ruta y el nombre del archivo para formar la ruta completa. Evita errores en distintos sistemas operativos. |\n",
    "\n",
    "---\n",
    "\n",
    "#### 3. Cargar el archivo CSV con pandas\n",
    "\n",
    "| Línea | Explicación |\n",
    "|-------|------------|\n",
    "| `try:` | Inicia un bloque que intenta ejecutar el código. Si hay error, pasa al bloque `except`. |\n",
    "| `pd.read_csv(...)` | Carga el archivo CSV como un DataFrame de pandas. Parámetros: |\n",
    "| &nbsp;&nbsp;&nbsp;&nbsp;`decimal=\",\"` | Indica que los decimales usan coma (formato europeo). |\n",
    "| &nbsp;&nbsp;&nbsp;&nbsp;`sep=\";\"` | Indica que los campos están separados por punto y coma. |\n",
    "| &nbsp;&nbsp;&nbsp;&nbsp;`encoding=\"ISO-8859-1\"` | Codificación para leer caracteres especiales como tildes. |\n",
    "| `print(...)` | Muestra mensaje de éxito si el archivo se carga correctamente. |\n",
    "| `df.shape` | Devuelve número de filas y columnas del DataFrame. |\n",
    "| `except Exception as e:` | Captura cualquier error que ocurra al cargar el archivo. |\n",
    "| `print(f\"Error...\")` | Muestra el mensaje de error en pantalla. |"
   ]
  },
  {
   "cell_type": "markdown",
   "metadata": {},
   "source": [
    "En `Python` siempre se prefiere encapsular la instrucción en una estructura `try...except`, que maneja los posibles errores o **excepciones** que pueden producirse en la lectura, por ejemplo, que nuestro *path* sea incorrecto, o que hayamos escrito mal el nombre del fichero, o cualquier otro error que haga que la instruccion de lectura falle. Añadimos también algunas instrucciones de `print()` que nos ayuden a saber que todo ha ido bien (o mal)."
   ]
  },
  {
   "cell_type": "markdown",
   "metadata": {},
   "source": [
    "Una vez cargados los datos, podemos revisarlos y ver la estructura del DataFrame usando las funciones adecuadas: `df.dtypes`, `df.head()`, `df.info()`, o `df.describe()`"
   ]
  },
  {
   "cell_type": "markdown",
   "metadata": {
    "id": "K77qqqqUl0bx"
   },
   "source": [
    "## Resumen\n",
    "En este capítulo hemos tomado contacto con las funciones básicas de `Python` y su utilización a través de un interface Jupyter, en este caso **Google Colaborate**, y hemos visto algunas funciones gráficas básicas.\n",
    "\n",
    "Hemos visto los principales tipos de datos, particularmente el *data frame*, y hemos aprendido a leer datos que previamente se habían introducido en una hoja de cálculo.\n",
    "\n",
    "Hemos aprendido a leer nuestros datos partiendo de ficheros `CSV` exportados desde Excel o desde otros programas.\n",
    "\n",
    "En el capítulo siguiente veremos con más detalle algunos gráficos que nos permitirán describir y entender mejor nuestros conjuntos de datos. "
   ]
  },
  {
   "cell_type": "markdown",
   "metadata": {},
   "source": [
    "A modo de ejemplo, el siguiente enlace muestra varios ejemplos de cuadernos Jupyter de todos los nivles de complejidad, desde introducción a su uso hasta aplicaciones complejas. Explorarlos ayudará a comprender mejor la interfaz.\n",
    "\n",
    "[Ver ejemplos de cuadernos Jupyter](https://github.com/jupyter/jupyter/wiki/A-gallery-of-interesting-Jupyter-Notebooks)"
   ]
  }
 ],
 "metadata": {
  "colab": {
   "authorship_tag": "ABX9TyOzGlL0U2Mx58xGD7hDodNc",
   "provenance": [
    {
     "file_id": "1nizgO5NWNFzRGvlr1RWmVAz1C9nEQJcR",
     "timestamp": 1750924511115
    },
    {
     "file_id": "16Gq4yvQnZcvsCWG2l1KSHnigiuFQ2MLS",
     "timestamp": 1636199843112
    }
   ]
  },
  "kernelspec": {
   "display_name": "Python 3",
   "name": "python3"
  },
  "language_info": {
   "codemirror_mode": {
    "name": "ipython",
    "version": 3
   },
   "file_extension": ".py",
   "mimetype": "text/x-python",
   "name": "python",
   "nbconvert_exporter": "python",
   "pygments_lexer": "ipython3",
   "version": "3.13.5"
  }
 },
 "nbformat": 4,
 "nbformat_minor": 0
}
