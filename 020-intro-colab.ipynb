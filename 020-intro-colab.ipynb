{
 "cells": [
  {
   "cell_type": "markdown",
   "metadata": {
    "id": "nPA8tTCYL_RF"
   },
   "source": [
    "# Trabajando con nuestros datos en Google Colaborate"
   ]
  },
  {
   "cell_type": "markdown",
   "metadata": {},
   "source": [
    "## Cómo leer una hoja de cálculo en Google Colaborate"
   ]
  },
  {
   "cell_type": "markdown",
   "metadata": {},
   "source": [
    "En este ejercicio usaremos un fichero o archivo de datos en formato CSV que habremos exportado previamente desde nuestra hoja de cálculo. Más adelante aprenderemos cómo leer directamente los datos de nuestras hojas Excel."
   ]
  },
  {
   "cell_type": "markdown",
   "metadata": {},
   "source": [
    "### Opción 1: Subir los datos al espacio de trabajo de Google Colaborate"
   ]
  },
  {
   "cell_type": "markdown",
   "metadata": {},
   "source": [
    "Los pasos son los mismos tanto si queremos trabajar con un `CSV`o directamente con una hoja Excel:\n",
    "1. Seleccionamos el icono de carpeta a la izquierda, que nos abre la barra lateral de `Archivos`\n",
    "2. Hacemos click sobre el icono de la hoja con la flecha vertical, lo que nos abre una ventana de selección de archivos.\n",
    "3. Seleccionamos la hoja de cálculo o `CSV`con la que vamos a trabajar y la subimos al espacio de trabajo de Google Colaborate\n",
    "\n",
    "Una vez la hoja de cálculo o el `CSV` en nuestro espacio de trabajo, procedemos a leer los datos.\n"
   ]
  },
  {
   "cell_type": "markdown",
   "metadata": {},
   "source": [
    "El mayor inconveniente de esta forma de trabajo es que cada vez que salimos de la sesión, Google Colab borra todos nuestros archivos del espacio de trabajo; cada vez que iniciemos una sesión, tendremos que repetir el proceso de subir nuestros datos al espacio de trabajo. Por eso, la mejor opción es tener nuestros datos en una carpeta de Google Drive, que puede utilizarse desde Colab tal como vamos a ver a continuación."
   ]
  },
  {
   "cell_type": "markdown",
   "metadata": {},
   "source": [
    "### Opción 2: Leer directamente los datos de nuestra carpeta de Google Drive\n",
    "Esta es una opción mucho más cómoda que nos evita los pasos intermedios, ya que no necesitamos subir la hoja de cálculo al espacio de trabajo.\n",
    "\n"
   ]
  },
  {
   "cell_type": "code",
   "execution_count": null,
   "metadata": {},
   "outputs": [],
   "source": [
    "#| eval: false\n",
    "import pandas as pd\n",
    "\n",
    "# Montar Google Drive si tu archivo está allí\n",
    "from google.colab import drive\n",
    "drive.mount('/content/drive')\n",
    "\n",
    "# Ruta de tu archivo de datos. Asegúrate de que esta ruta sea correcta.\n",
    "# Si está en la raíz de tu Drive, sería algo así:\n",
    "archivo_csv = '/content/drive/MyDrive/camembert.csv'\n",
    "\n",
    "# Si el archivo está directamente en el entorno de Colab (subido o creado allí),\n",
    "# la ruta podría ser simplemente el nombre del archivo si estás en el mismo directorio:\n",
    "# archivo_csv = 'camembert.csv'\n",
    "\n",
    "\n",
    "# Leer el archivo CSV\n",
    "archivo_csv = '/content/drive/MyDrive/camembert.csv'\n",
    "\n",
    "# Mostrar las primeras filas del DataFrame para verificar\n",
    "print(df.head())"
   ]
  },
  {
   "cell_type": "code",
   "execution_count": null,
   "metadata": {},
   "outputs": [],
   "source": [
    "#| include: false\n",
    "\n",
    "import pandas as pd\n",
    "import os # Necesario para verificar variables de entorno\n",
    "\n",
    "# ----------------------------------------\n",
    "# 1. Detección de entorno\n",
    "# ----------------------------------------\n",
    "\n",
    "# Colab define una variable de entorno 'COLAB_GPU' (incluso si no usa GPU)\n",
    "# También se puede comprobar si el módulo 'google.colab' está disponible.\n",
    "IS_COLAB = 'COLAB_GPU' in os.environ\n",
    "\n",
    "if IS_COLAB:\n",
    "    # Ejecutando en Google Colab. Se usará el código específico de Colab.\n",
    "    \n",
    "    # ----------------------------------------\n",
    "    # Código que SOLO debe ejecutarse en Colab\n",
    "    # ----------------------------------------\n",
    "    from google.colab import drive\n",
    "    # El método files.upload() requiere interacción del usuario, \n",
    "    # por lo que el alumno debe subir el archivo aquí.\n",
    "    archivo_csv = '/content/drive/MyDrive/camembert.csv'\n",
    "    \n",
    "    # Leer el archivo Excel, especificando la hoja\n",
    "    df = pd.read_csv(archivo_csv, sep = \";\", decimal = \",\")\n",
    "    \n",
    "else: \n",
    "    # Ejecutando de forma local (Quarto/Jupyter). Se usará el archivo local.\n",
    "    \n",
    "    # ----------------------------------------\n",
    "    # Código que SOLO debe ejecutarse localmente (Quarto)\n",
    "    # ----------------------------------------\n",
    "    \n",
    "    # Asegúrese de que 'nombre_de_su_archivo.csv' está en el directorio del .ipynb\n",
    "    try:\n",
    "        archivo_csv = 'camembert.csv'\n",
    "        df = pd.read_csv (archivo_csv, sep = \";\", decimal = \",\")\n",
    "    except FileNotFoundError:\n",
    "        # Esto ayudará a depurar si el archivo no se encuentra localmente.\n",
    "        print(\"¡ERROR! Asegúrese de que el archivo 'nombre_de_su_archivo.csv' esté presente.\")\n",
    "\n",
    "\n",
    "# ----------------------------------------\n",
    "# 2. El resto del código continúa sin cambios\n",
    "# ----------------------------------------\n",
    "# print(f\"DataFrame cargado con {len(df)} filas.\")\n",
    "df.head()"
   ]
  },
  {
   "cell_type": "markdown",
   "metadata": {},
   "source": [
    "### Explicación de los pasos:\n",
    "\n",
    "1.  **`import pandas as pd`**:\n",
    "\n",
    "      * Esta línea importa la librería `pandas`, que es fundamental para el manejo y análisis de datos en `Python`. Es una convención llamarla `pd`.\n",
    "\n",
    "2.  **Montar Google Drive (si es necesario)**:\n",
    "\n",
    "      * Si tu archivo `camembert.csv` está almacenado en tu Google Drive, necesitas **montar** Drive en tu entorno de Colab para poder acceder a él. Las líneas `from google.colab import drive` y `drive.mount('/content/drive')` se encargan de esto.\n",
    "      * Una vez montado, tus archivos de Drive serán accesibles a través de la ruta `/content/drive/MyDrive/`.\n",
    "\n",
    "3.  **`archivo_csv = '/content/drive/MyDrive/camembert.csv'`**:\n",
    "\n",
    "      * Aquí defines la **ruta completa** de tu archivo Excel.\n",
    "      * **¡Importante\\!** Debes ajustar esta ruta a la ubicación real de tu archivo.\n",
    "          * Si lo tienes en Google Drive (y lo montaste), la ruta será similar a `/content/drive/MyDrive/nombre_de_tu_carpeta/camembert.csv`.\n",
    "          * Si subiste el archivo directamente a Colab (usando el ícono de la carpeta en el panel izquierdo y luego \"Subir\"), y está en el directorio raíz de Colab, simplemente el nombre del archivo (`camembert.csv`) debería funcionar.\n",
    "\n",
    "4.  **`df = pd.read_csv (archivo_csv, sep = \";\", decimal = \",\")`**:\n",
    "\n",
    "      * Esta es la función clave.\n",
    "      * `pd.read_csv` es el equivalente directo a `read_excel()` de `readxl` en R.\n",
    "      * El primer argumento es la **ruta** al archivo `CSV`, que proporcionamos en la variable `archivo_csv`\n",
    "      * Los dos argumentos siguientes, `sep = \";\", decimal = \",\"`, indican a `pandas`que nuestro archivo CSV se ha generado utilizando el formato europeo, es decir, la coma como separador decimal, y el punto y coma como separador de datos.\n",
    "\n",
    "5.  **`print(df.head())`**:\n",
    "\n",
    "      * Una vez que los datos se han cargado en un **DataFrame de `pandas`** (que es el objeto `df`), puedes usar `df.head()` para ver las primeras 5 filas y asegurarte de que los datos se cargaron correctamente. Esto es similar a `head(df)` en R.\n",
    "\n",
    "Con estos pasos, tendrás tus datos cargados en un DataFrame de `pandas`, listos para ser manipulados y analizados en `Python`."
   ]
  },
  {
   "cell_type": "markdown",
   "metadata": {},
   "source": [
    "## Importando nuestros datos a Colab."
   ]
  },
  {
   "cell_type": "markdown",
   "metadata": {},
   "source": [
    "Como siempre, empezamos nuestro cuaderno importando las bibliotecas que vamos a usar en el ejercicio."
   ]
  },
  {
   "cell_type": "code",
   "execution_count": null,
   "metadata": {
    "executionInfo": {
     "elapsed": 1316,
     "status": "ok",
     "timestamp": 1759679687638,
     "user": {
      "displayName": "Juan Riera",
      "userId": "13936244033390161607"
     },
     "user_tz": -120
    },
    "id": "K7oYc5MOaAvB"
   },
   "outputs": [],
   "source": [
    "import os                       # # manejo de funciones del sistema\n",
    "import sys                      # manejo de funciones del sistema\n",
    "import pandas as pd             # manejo de dataframes y series\n",
    "import numpy as np              # funciones de cálculo numérico de la biblioteca `numpy`\n",
    "import matplotlib.pyplot as plt # funciones específicas de `matplotlib.pyplot`\n",
    "from scipy.stats import norm    # para hacer la curva de distribución normal\n",
    "import locale                   # para poner las fechas en formato español"
   ]
  },
  {
   "cell_type": "code",
   "execution_count": null,
   "metadata": {},
   "outputs": [],
   "source": [
    "# ajustamos fechas a formato español, el punto y coma evita la impresion de salida de la funcion\n",
    "locale.setlocale(locale.LC_TIME, 'Spanish_Spain.1252');"
   ]
  },
  {
   "cell_type": "markdown",
   "metadata": {},
   "source": [
    "Importamos también las funciones gráficas de la biblioteca `seaborn`y establecemos un estilo por defecto, con el fondo blanco."
   ]
  },
  {
   "cell_type": "code",
   "execution_count": null,
   "metadata": {
    "executionInfo": {
     "elapsed": 1023,
     "status": "ok",
     "timestamp": 1759679691061,
     "user": {
      "displayName": "Juan Riera",
      "userId": "13936244033390161607"
     },
     "user_tz": -120
    },
    "id": "ylaAe1IJdMsp"
   },
   "outputs": [],
   "source": [
    "import seaborn as sns\n",
    "sns.set_style(\"whitegrid\")"
   ]
  },
  {
   "cell_type": "markdown",
   "metadata": {
    "id": "TDYJuDyzmfzL"
   },
   "source": [
    "Es necesario cargar el fichero `camembert.csv` en el espacio de trabajo de Google Colaborate. Para ello, montamos nuestro drive y damos a `Python` el *path* (la direccion de la carpeta).\n",
    "\n",
    "Una vez cargado, verificamos que existe y hay acceso:"
   ]
  },
  {
   "cell_type": "code",
   "execution_count": null,
   "metadata": {},
   "outputs": [],
   "source": [
    "#| eval: false\n",
    "\n",
    "# 1. Ejecuta esta celda para montar tu Google Drive.\n",
    "from google.colab import drive\n",
    "drive.mount('/content/drive')\n",
    "\n",
    "# 2. Verifica y ajusta esta ruta de archivo si es necesario:\n",
    "google_drive_path_folder = '/content/drive/MyDrive/Colab Notebooks/master-queseria/datos/'\n",
    "nombre_archivo_base = 'camembert.csv'\n",
    "PATH_TO_READ = os.path.join(google_drive_path_folder, nombre_archivo_base)"
   ]
  },
  {
   "cell_type": "code",
   "execution_count": null,
   "metadata": {},
   "outputs": [],
   "source": [
    "#| include: false\n",
    "# CÓDIGO INTERNO PARA QUARTO: Inicialización y corrección de ruta.\n",
    "import os \n",
    "\n",
    "nombre_archivo_base = 'camembert.csv' \n",
    "google_drive_path_folder = '/content/drive/MyDrive/Colab Notebooks/master-queseria/datos/'\n",
    "\n",
    "# Detección de entorno\n",
    "IS_COLAB = 'google.colab' in sys.modules\n",
    "\n",
    "# 1. Corrección para Quarto (si no estamos en Colab)\n",
    "if not IS_COLAB:\n",
    "    # Si es Quarto, sobrescribimos la ruta con la local.\n",
    "    PATH_TO_READ = nombre_archivo_base \n",
    "\n",
    "# 2. Definir el mensaje de error (Siempre es el de Colab, para el alumno)\n",
    "ERROR_MESSAGE_HELP = (\n",
    "    f\"El archivo NO SE ENCUENTRA en Google Drive.\\n\"\n",
    "    f\"1. ¿Ejecutaste la Celda 1 (Montaje de Drive)?\\n\"\n",
    "    f\"2. ¿Está el archivo 'camembert.csv' exactamente en la ruta que verificaste?: \\n{PATH_TO_READ}\"\n",
    ")"
   ]
  },
  {
   "cell_type": "markdown",
   "metadata": {},
   "source": [
    "Aunque podríamos hacer la lectura del fichero de datos con la instruccion simple,"
   ]
  },
  {
   "cell_type": "code",
   "execution_count": null,
   "metadata": {},
   "outputs": [],
   "source": [
    "#| eval: false\n",
    "\n",
    "df = pd.read_csv(\n",
    "        PATH_TO_READ, \n",
    "        sep = \";\", \n",
    "        decimal = \",\", \n",
    "        encoding = 'utf-8' # codificacion usada por Windows\n",
    "    )"
   ]
  },
  {
   "cell_type": "markdown",
   "metadata": {},
   "source": [
    "en `Python` siempre se prefiere encapsular la instrucción en una estructura `try...except`, que maneja los posibles errores o **excepciones** que pueden producirse en la lectura, por ejemplo, que nuestro *path* sea incorrecto, o que hayamos escrito mal el nombre del fichero, o cualquier otro error que haga que la instruccion de lectura falle. Añadimos también algunas instrucciones de `print()` que nos ayuden a saber que todo ha ido bien (o mal)."
   ]
  },
  {
   "cell_type": "code",
   "execution_count": null,
   "metadata": {},
   "outputs": [],
   "source": [
    "#| echo: true\n",
    "# ----------------------------------------\n",
    "# Lectura de datos\n",
    "# ----------------------------------------\n",
    "\n",
    "print(f\"Intentando leer el archivo desde la ruta: {PATH_TO_READ}\\n\")\n",
    "\n",
    "try:\n",
    "    df = pd.read_csv(\n",
    "        PATH_TO_READ, \n",
    "        sep = \";\", \n",
    "        decimal = \",\", \n",
    "        encoding = 'utf-8'\n",
    "    )\n",
    "    print(\"--- LECTURA EXITOSA ---\")\n",
    "    print(f\"Filas cargadas: {len(df)}\")\n",
    "    df.head()\n",
    "    \n",
    "except FileNotFoundError:\n",
    "    print(\"\\n--- ERROR DE ARCHIVO ---\")\n",
    "    print(ERROR_MESSAGE_HELP)\n",
    "        \n",
    "except Exception as e:\n",
    "    print(\"\\n--- ERROR AL LEER EL CSV ---\")\n",
    "    print(\"Ocurrió un error al leer el archivo. Error: {e}\")"
   ]
  },
  {
   "cell_type": "markdown",
   "metadata": {},
   "source": [
    "Podemos mostrar el `dataframe` que hemos leído, mediante la funcion `.head()`, que nos muestra las cinco primeras lineas."
   ]
  },
  {
   "cell_type": "code",
   "execution_count": null,
   "metadata": {
    "colab": {
     "base_uri": "https://localhost:8080/",
     "height": 237
    },
    "executionInfo": {
     "elapsed": 32,
     "status": "ok",
     "timestamp": 1759679742595,
     "user": {
      "displayName": "Juan Riera",
      "userId": "13936244033390161607"
     },
     "user_tz": -120
    },
    "id": "FnIvDYzpZ_X_",
    "outputId": "8110245b-21b1-451c-ce92-6bfeca09356d"
   },
   "outputs": [],
   "source": [
    "df.head()"
   ]
  },
  {
   "cell_type": "markdown",
   "metadata": {},
   "source": [
    "Vemos que el nombre de la columna `fecha` está colocada en una línea inferior respecto a los otros nombres de columna. Esto se debe a que la hemos designado como `ìndex`, y, por lo tanto, ya no es una columna ordinaria para `pandas` (podemos volver a convertirla en columna normal o de texto en cualquier momento según nuestros intereses, como veremos más adelante).\n",
    "\n",
    "También podemos usar la función `.info()`, que nos dice la estructura interna de nuestro `dataframe` y el tipo de los datos (entero, numérico, carácter...). Dado que la fecha, como hemos visto, está formateada como fecha y asignada como `ìndex`, ya no aparece en el listado de columnas de datos, sino que aparece en la primera línea como `DateTimeIndex`, y la informacion nos dice los límites de esas fechas."
   ]
  },
  {
   "cell_type": "code",
   "execution_count": null,
   "metadata": {
    "colab": {
     "base_uri": "https://localhost:8080/"
    },
    "executionInfo": {
     "elapsed": 25,
     "status": "ok",
     "timestamp": 1759679744124,
     "user": {
      "displayName": "Juan Riera",
      "userId": "13936244033390161607"
     },
     "user_tz": -120
    },
    "id": "r0lZzhQzcRIU",
    "outputId": "8d6f8d1f-dd64-4ad5-b8c0-68fba50e6b92"
   },
   "outputs": [],
   "source": [
    "df.info()"
   ]
  },
  {
   "cell_type": "markdown",
   "metadata": {},
   "source": [
    "## Introducción a los gráficos básicos"
   ]
  },
  {
   "cell_type": "markdown",
   "metadata": {},
   "source": [
    "Una vez leído correctamente el `DataFrame`, podemos hacer algunos gráficos de sus columnas numéricas. También usaremos las funciones de `seaborn` que producen salidas muy atractivas y son funcionjes fáciles de manejar."
   ]
  },
  {
   "cell_type": "code",
   "execution_count": null,
   "metadata": {
    "colab": {
     "base_uri": "https://localhost:8080/",
     "height": 448
    },
    "executionInfo": {
     "elapsed": 299,
     "status": "ok",
     "timestamp": 1759679746262,
     "user": {
      "displayName": "Juan Riera",
      "userId": "13936244033390161607"
     },
     "user_tz": -120
    },
    "id": "V7T3iDvNdYIs",
    "outputId": "7f02f5d3-421c-4353-8970-210275087f40"
   },
   "outputs": [],
   "source": [
    "df[\"est\"].hist() # histograma bássico de matplotlib\n",
    "\n",
    "plt.show()"
   ]
  },
  {
   "cell_type": "markdown",
   "metadata": {},
   "source": [
    "Fíjate en la forma correcta de designar una columna en un `DataFrame`de pandas, usando su nombre."
   ]
  },
  {
   "cell_type": "code",
   "execution_count": null,
   "metadata": {
    "colab": {
     "base_uri": "https://localhost:8080/",
     "height": 448
    },
    "executionInfo": {
     "elapsed": 255,
     "status": "ok",
     "timestamp": 1759679747795,
     "user": {
      "displayName": "Juan Riera",
      "userId": "13936244033390161607"
     },
     "user_tz": -120
    },
    "id": "50QPKoEteWe2",
    "outputId": "d36c5c09-f289-4d95-b9f2-fda429ee4cf2"
   },
   "outputs": [],
   "source": [
    "df[\"est\"].hist(bins = 5)\n",
    "\n",
    "plt.show()"
   ]
  },
  {
   "cell_type": "markdown",
   "metadata": {},
   "source": [
    "Vamos a repetir el histograma con `seaborn`, que nos permite incluir una **curva de densidad** fácilmente (pregunta: ¿qué es una curva de densidad?)"
   ]
  },
  {
   "cell_type": "code",
   "execution_count": null,
   "metadata": {
    "colab": {
     "base_uri": "https://localhost:8080/",
     "height": 524
    },
    "executionInfo": {
     "elapsed": 573,
     "status": "ok",
     "timestamp": 1759679749575,
     "user": {
      "displayName": "Juan Riera",
      "userId": "13936244033390161607"
     },
     "user_tz": -120
    },
    "id": "OCCqhq0weE0V",
    "outputId": "1c993f1c-c3b3-4a42-c8f7-81200c5484bd"
   },
   "outputs": [],
   "source": [
    "sns.displot(df[\"est\"], kde = True)\n",
    "\n",
    "plt.show()"
   ]
  },
  {
   "cell_type": "code",
   "execution_count": null,
   "metadata": {
    "colab": {
     "base_uri": "https://localhost:8080/",
     "height": 424
    },
    "executionInfo": {
     "elapsed": 125,
     "status": "ok",
     "timestamp": 1759679750829,
     "user": {
      "displayName": "Juan Riera",
      "userId": "13936244033390161607"
     },
     "user_tz": -120
    },
    "id": "CubJ2_l8eLc8",
    "outputId": "e812e45b-0e6a-46ab-f98e-c39033402041"
   },
   "outputs": [],
   "source": [
    "sns.boxplot(df['est'])\n",
    "\n",
    "plt.show()"
   ]
  },
  {
   "cell_type": "markdown",
   "metadata": {},
   "source": [
    "Aquí puedes ver la potencia de `pandas`para manejar y agrupar las series. Para representar los datos por mes, sólo tenemos que crear una nueva columna `mes` indicando a `pandas` que extraiga del índice la parte de fecha que corresponde al mes. ¿Fácil, no?"
   ]
  },
  {
   "cell_type": "code",
   "execution_count": null,
   "metadata": {
    "colab": {
     "base_uri": "https://localhost:8080/",
     "height": 467
    },
    "executionInfo": {
     "elapsed": 209,
     "status": "ok",
     "timestamp": 1759679752296,
     "user": {
      "displayName": "Juan Riera",
      "userId": "13936244033390161607"
     },
     "user_tz": -120
    },
    "id": "EqEABBWQzUMr",
    "outputId": "f5df808b-cfa4-4c19-fc4a-e200ea8c679d"
   },
   "outputs": [],
   "source": [
    "df['mes'] = df.index.month\n",
    "sns.boxplot(x='mes', y='est', data=df)\n",
    "\n",
    "plt.show()"
   ]
  },
  {
   "cell_type": "markdown",
   "metadata": {},
   "source": [
    "En vez de usar el número para el mes, podemos usar el código de letras abreviado (en este caso, `seaborn`utiliza la abreviatura en inglés, pero hemos cambiado la codificación para que lo represente en español, en la instruccion `locale` que hemos usado en la primera casilla). Aprovechamos para personalizar un poco el gráfico."
   ]
  },
  {
   "cell_type": "code",
   "execution_count": null,
   "metadata": {
    "colab": {
     "base_uri": "https://localhost:8080/",
     "height": 487
    },
    "executionInfo": {
     "elapsed": 279,
     "status": "ok",
     "timestamp": 1759679753775,
     "user": {
      "displayName": "Juan Riera",
      "userId": "13936244033390161607"
     },
     "user_tz": -120
    },
    "id": "Jf6tGd84zh2i",
    "outputId": "377f646b-d39c-4fc8-f655-399e8c080bd7"
   },
   "outputs": [],
   "source": [
    "df['mes_abreviado'] = df.index.strftime('%b')\n",
    "sns.boxplot(x='mes_abreviado', y='est', data=df)\n",
    "# Opcional: Personalizar el gráfico\n",
    "plt.title('Boxplot de la variable \"est\" por Mes')\n",
    "plt.xlabel('Mes')\n",
    "plt.ylabel('Valor de \"est\"')\n",
    "plt.grid(axis='y', linestyle='--', alpha=0.7) # Añadir una cuadrícula para mejor lectura\n",
    "plt.xticks(rotation=45) # Rotar las etiquetas del eje X si son muchas\n",
    "plt.tight_layout() # Ajusta automáticamente los parámetros de la subtrama para un diseño ajustado\n",
    "\n",
    "plt.show()\n"
   ]
  },
  {
   "cell_type": "markdown",
   "metadata": {},
   "source": [
    "### Introducción a los gráficos de series temporales"
   ]
  },
  {
   "cell_type": "markdown",
   "metadata": {},
   "source": [
    "Para utilizar las funciones de series de `pandas` resulta conveniente convertir en una columna de fecha la primera columna, que `pandas` ha leido como texto, y asignarla como `index` del dataframe; el formateo de series temporales en esta biblioteca es uno de sus puntos más fuertes."
   ]
  },
  {
   "cell_type": "code",
   "execution_count": null,
   "metadata": {
    "executionInfo": {
     "elapsed": 825,
     "status": "ok",
     "timestamp": 1759679741245,
     "user": {
      "displayName": "Juan Riera",
      "userId": "13936244033390161607"
     },
     "user_tz": -120
    },
    "id": "A7Cw1gqLYzsg"
   },
   "outputs": [],
   "source": [
    "df['fecha_index']= pd.DatetimeIndex(df.fecha).normalize()\n",
    "df.set_index('fecha_index',inplace=True)\n",
    "df.sort_index(inplace=True)"
   ]
  },
  {
   "cell_type": "markdown",
   "metadata": {},
   "source": [
    "La función `.plot()` nos representa los valores de la columna en orden secuencial:"
   ]
  },
  {
   "cell_type": "code",
   "execution_count": null,
   "metadata": {
    "colab": {
     "base_uri": "https://localhost:8080/",
     "height": 433
    },
    "executionInfo": {
     "elapsed": 388,
     "status": "ok",
     "timestamp": 1759679755308,
     "user": {
      "displayName": "Juan Riera",
      "userId": "13936244033390161607"
     },
     "user_tz": -120
    },
    "id": "eDiFJK03g26j",
    "outputId": "c33373bb-fa3e-4c25-9e5c-3851cecb0a2f"
   },
   "outputs": [],
   "source": [
    "df[\"est\"].plot()\n",
    "plt.show()"
   ]
  },
  {
   "cell_type": "markdown",
   "metadata": {},
   "source": [
    "Si utilizamos las funciones de `pandas`, podemos reformatear las fechas como serie temporal. Creamos una serie temporal y la remuestreamos para hacer las medias semanales del extracto seco total, eliminando las semans en las que no hay valores con `.dropna()`. La función `resample('W-MON')` formatea las fechas para que las semanas empiecen en lunes, como es el caso en Europa (en USA la semana empieza el domingo). Aprovechamos para mostrar una de las potencias de `Python`: podemos hacer que varios cálculos se hagan a continuacion de los otros, simplemente enlazando las funciones, hasta el `.plot()`"
   ]
  },
  {
   "cell_type": "code",
   "execution_count": null,
   "metadata": {
    "colab": {
     "base_uri": "https://localhost:8080/",
     "height": 426
    },
    "executionInfo": {
     "elapsed": 349,
     "status": "ok",
     "timestamp": 1759679757043,
     "user": {
      "displayName": "Juan Riera",
      "userId": "13936244033390161607"
     },
     "user_tz": -120
    },
    "id": "cxlbjSf-e5LN",
    "outputId": "409fd91a-3824-43ef-9740-32108f716315"
   },
   "outputs": [],
   "source": [
    "plt.rcParams['figure.figsize'] = (10.0,4.0)\n",
    "ts = pd.Series(df[\"est\"].dropna())\n",
    "ts.resample('W-MON').mean().plot(title=\"Media del extracto seco total semanal\")\n",
    "plt.show()"
   ]
  },
  {
   "cell_type": "markdown",
   "metadata": {},
   "source": [
    "Veamos a continuación otras formas de formatear la serie sobre la marcha, pero esta vez representando la `desviación típica`en vez de la `media`."
   ]
  },
  {
   "cell_type": "code",
   "execution_count": null,
   "metadata": {
    "colab": {
     "base_uri": "https://localhost:8080/",
     "height": 427
    },
    "executionInfo": {
     "elapsed": 445,
     "status": "ok",
     "timestamp": 1759679759493,
     "user": {
      "displayName": "Juan Riera",
      "userId": "13936244033390161607"
     },
     "user_tz": -120
    },
    "id": "mctR5CYSfxvd",
    "outputId": "c52d763f-009a-4fb4-c457-f2fce0e99f0a"
   },
   "outputs": [],
   "source": [
    "ts.resample('W-MON').std().plot(title=\"Desviación típica del extracto seco total semanal\");"
   ]
  },
  {
   "cell_type": "markdown",
   "metadata": {},
   "source": [
    "O podemos representar un período específico de la serie indicando a `pandas` los límites inferior y superior de las fechas que queremos."
   ]
  },
  {
   "cell_type": "code",
   "execution_count": null,
   "metadata": {
    "colab": {
     "base_uri": "https://localhost:8080/",
     "height": 426
    },
    "executionInfo": {
     "elapsed": 221,
     "status": "ok",
     "timestamp": 1759679762481,
     "user": {
      "displayName": "Juan Riera",
      "userId": "13936244033390161607"
     },
     "user_tz": -120
    },
    "id": "VCe6t9R6hifl",
    "outputId": "2e3a379c-66a1-4ede-bcee-1d9dbe3af9fb"
   },
   "outputs": [],
   "source": [
    "ts[\"2020-05\":\"2020-08\"].resample('W-MON').mean().plot(title=\"Media del extracto seco total semanal\");"
   ]
  },
  {
   "cell_type": "markdown",
   "metadata": {},
   "source": [
    "A modo ilustrativo, aunque sin un interés prioritario, muestro un grafico `jointplot()` de `seaborn` que muestra la facilidad con la que esta biblioteca puede hacer un gráfico complejo de dispersión e histograma simultáneamente."
   ]
  },
  {
   "cell_type": "code",
   "execution_count": null,
   "metadata": {
    "colab": {
     "base_uri": "https://localhost:8080/",
     "height": 625
    },
    "executionInfo": {
     "elapsed": 340,
     "status": "ok",
     "timestamp": 1759679764304,
     "user": {
      "displayName": "Juan Riera",
      "userId": "13936244033390161607"
     },
     "user_tz": -120
    },
    "id": "voho7OlCiE_2",
    "outputId": "b4c2e6fc-b83a-460b-f059-6f92f9c9b7bc"
   },
   "outputs": [],
   "source": [
    "sns.jointplot(x=\"est\", y=\"mg\", data = df[~df.index.duplicated(keep='first')])"
   ]
  },
  {
   "cell_type": "markdown",
   "metadata": {},
   "source": [
    "Una alternativa más moderna a los `boxplots` son los llamados `violin plots`, que tienenla ventaja sobrelos primeros de mostrar la curva de distribución de los datos."
   ]
  },
  {
   "cell_type": "code",
   "execution_count": null,
   "metadata": {
    "colab": {
     "base_uri": "https://localhost:8080/",
     "height": 406
    },
    "executionInfo": {
     "elapsed": 454,
     "status": "ok",
     "timestamp": 1759679766204,
     "user": {
      "displayName": "Juan Riera",
      "userId": "13936244033390161607"
     },
     "user_tz": -120
    },
    "id": "pcdETgP8igqd",
    "outputId": "3a4ce3c5-c565-4ce3-fdb2-d74b28a3321b"
   },
   "outputs": [],
   "source": [
    "sns.violinplot(y=df[\"est\"], x=df.index.month)"
   ]
  },
  {
   "cell_type": "markdown",
   "metadata": {},
   "source": [
    "Finalmente, una serie de cálculos más complejos para obtener los gráficos de capacidad de un proceso, como muestra de cómo se pueden usar las funciones y gráficos de `Python` para prácticamente cualquier necesidad."
   ]
  },
  {
   "cell_type": "code",
   "execution_count": null,
   "metadata": {
    "colab": {
     "base_uri": "https://localhost:8080/",
     "height": 487
    },
    "executionInfo": {
     "elapsed": 250,
     "status": "ok",
     "timestamp": 1759679767799,
     "user": {
      "displayName": "Juan Riera",
      "userId": "13936244033390161607"
     },
     "user_tz": -120
    },
    "id": "TSBiPI3OkDgj",
    "outputId": "ebec5d52-c75e-4505-994d-f5c5fc2bcf7f"
   },
   "outputs": [],
   "source": [
    "# codigo de Roberto Salazar\n",
    "# https://medium.com/geekculture/process-capability-analysis-with-python-a0f3aed8e578\n",
    "\n",
    "# Set specification limits\n",
    "target = 5\n",
    "LSL = 3\n",
    "USL = 7\n",
    "\n",
    "# Generate normally distributed data points\n",
    "data = np.random.normal(loc=target,scale=1,size=100)\n",
    "\n",
    "\n",
    "# Generate probability density function\n",
    "x = np.linspace(min(data), max(data), 1000)\n",
    "y = norm.pdf(x, loc=5, scale=1)\n",
    "\n",
    "# Plot histogram for data along with probability density functions and specification limits\n",
    "plt.figure(figsize=(10,5))\n",
    "plt.hist(data, color=\"lightgrey\", edgecolor=\"black\", density=True)\n",
    "sns.kdeplot(data, color=\"blue\", label=\"Density ST\")\n",
    "plt.plot(x, y, linestyle=\"--\", color=\"black\", label=\"Theorethical Density ST\")\n",
    "plt.axvline(LSL, linestyle=\"--\", color=\"red\", label=\"LSL\")\n",
    "plt.axvline(USL, linestyle=\"--\", color=\"orange\", label=\"USL\")\n",
    "plt.axvline(target, linestyle=\"--\", color=\"green\", label=\"Target\")\n",
    "plt.title('Process Capability Analysis')\n",
    "plt.xlabel(\"Measure\")\n",
    "plt.ylabel(\"\")\n",
    "plt.yticks([])\n",
    "plt.legend()\n",
    "plt.show()"
   ]
  },
  {
   "cell_type": "code",
   "execution_count": null,
   "metadata": {
    "executionInfo": {
     "elapsed": 17,
     "status": "ok",
     "timestamp": 1759679769348,
     "user": {
      "displayName": "Juan Riera",
      "userId": "13936244033390161607"
     },
     "user_tz": -120
    },
    "id": "N7729eCprZmx"
   },
   "outputs": [],
   "source": [
    "# Calculate Cp\n",
    "Cp = (USL-LSL)/(6*np.std(data))\n",
    "\n",
    "# Calculate Cpk\n",
    "Cpk = min((USL-data.mean())/(3*data.std()), (data.mean()-LSL)/(3*data.std()))\n",
    "\n",
    "# Calculate z-value\n",
    "z = min((USL-data.mean())/(data.std()), (data.mean()-LSL)/(data.std()))\n",
    "\n",
    "# Get data summary statistics\n",
    "num_samples = len(data)\n",
    "sample_mean = data.mean()\n",
    "sample_std = data.std()\n",
    "sample_max = data.max()\n",
    "sample_min = data.min()\n",
    "sample_median = np.median(data)\n",
    "\n",
    "# Get percentage of data points outside of specification limits\n",
    "pct_below_LSL = len(data[data < LSL])/len(data)*100\n",
    "pct_above_USL = len(data[data > USL])/len(data)*100\n",
    "\n",
    "# \"\"\" # Write .txt file with results\n",
    "# with open('/content/process_results.txt', \"w\") as results:\n",
    "#     results.write(\"PROCESS CAPABILITY ANALYSIS\\n\")\n",
    "\n",
    "#     results.write(\"-----------------------------------\\n\")\n",
    "#     results.write(f\"Specifications\\n\")\n",
    "#     results.write(f\"\\nTarget: {target}\\n\")\n",
    "#     results.write(f\"LSL: {LSL}\\n\")\n",
    "#     results.write(f\"USL: {USL}\\n\")\n",
    "\n",
    "#     results.write(\"-----------------------------------\\n\")\n",
    "#     results.write(f\"Indices\\n\")\n",
    "#     results.write(f\"\\nCp: {round(Cp,2)}\\n\")\n",
    "#     results.write(f\"Cpk: {round(Cpk,2)}\\n\")\n",
    "#     results.write(f\"z: {round(z,2)}\\n\")\n",
    "\n",
    "#     results.write(\"-----------------------------------\\n\")\n",
    "#     results.write(f\"Summary Statistics\\n\")\n",
    "#     results.write(f\"\\nNumber of samples: {round(num_samples,2)}\\n\")\n",
    "#     results.write(f\"Sample mean: {round(sample_mean,2)}\\n\")\n",
    "#     results.write(f\"Sample std: {round(sample_std,2)}\\n\")\n",
    "#     results.write(f\"Sample max: {round(sample_max,2)}\\n\")\n",
    "#     results.write(f\"Sample min: {round(sample_min,2)}\\n\")\n",
    "#     results.write(f\"Sample median: {round(sample_median,2)}\\n\")\n",
    "\n",
    "#     results.write(f\"Percentage of data points below LSL: {round(pct_below_LSL,2)}%\\n\")\n",
    "#     results.write(f\"Percentage of data points above USL: {round(pct_above_USL,2)}%\\n\") \"\"\""
   ]
  },
  {
   "cell_type": "markdown",
   "metadata": {
    "id": "P6PrLdERUNgd"
   },
   "source": [
    "ver https://seaborn.pydata.org/generated/seaborn.displot.html#seaborn.displot"
   ]
  },
  {
   "cell_type": "markdown",
   "metadata": {},
   "source": [
    "A continuación, una serie de celdas que realizan gráficos diversos, puedes dedicar un rato a estudiarlas e intentar comprender bien su programación."
   ]
  },
  {
   "cell_type": "code",
   "execution_count": null,
   "metadata": {
    "executionInfo": {
     "elapsed": 7,
     "status": "ok",
     "timestamp": 1759679774199,
     "user": {
      "displayName": "Juan Riera",
      "userId": "13936244033390161607"
     },
     "user_tz": -120
    },
    "id": "tJQ--DH0yT0h"
   },
   "outputs": [],
   "source": [
    "limite_rechazo = 231    ##\n",
    "limite_deficientes = 242    ##\n",
    "\n",
    "LSL = df.est.mean() - 3 * df.est.std()    ## lower specification limit\n",
    "USL = df.est.mean() + 3 * df.est.std()    ## upper specification limit\n",
    "\n",
    "df.insert(6,'LSL', LSL)\n",
    "df.insert(7,'USL', USL)\n"
   ]
  },
  {
   "cell_type": "code",
   "execution_count": null,
   "metadata": {
    "executionInfo": {
     "elapsed": 19,
     "status": "ok",
     "timestamp": 1759679776375,
     "user": {
      "displayName": "Juan Riera",
      "userId": "13936244033390161607"
     },
     "user_tz": -120
    },
    "id": "wsj-lmDC2SM5"
   },
   "outputs": [],
   "source": [
    "df['fecha'] = df.index"
   ]
  },
  {
   "cell_type": "code",
   "execution_count": null,
   "metadata": {
    "colab": {
     "base_uri": "https://localhost:8080/",
     "height": 237
    },
    "executionInfo": {
     "elapsed": 10,
     "status": "ok",
     "timestamp": 1759679778108,
     "user": {
      "displayName": "Juan Riera",
      "userId": "13936244033390161607"
     },
     "user_tz": -120
    },
    "id": "7t-to1HrztnJ",
    "outputId": "ced4dc67-48d4-49d1-d71b-8af176a649dd"
   },
   "outputs": [],
   "source": [
    "df.head()"
   ]
  },
  {
   "cell_type": "code",
   "execution_count": null,
   "metadata": {
    "executionInfo": {
     "elapsed": 23,
     "status": "ok",
     "timestamp": 1759679779453,
     "user": {
      "displayName": "Juan Riera",
      "userId": "13936244033390161607"
     },
     "user_tz": -120
    },
    "id": "a8sKtq00z8MH"
   },
   "outputs": [],
   "source": [
    "df2 = pd.melt(df, id_vars= ['fecha'], value_vars=[\"est\",\"LSL\", \"USL\"],  value_name=\"valores\")"
   ]
  },
  {
   "cell_type": "code",
   "execution_count": null,
   "metadata": {
    "colab": {
     "base_uri": "https://localhost:8080/",
     "height": 206
    },
    "executionInfo": {
     "elapsed": 5,
     "status": "ok",
     "timestamp": 1759679780979,
     "user": {
      "displayName": "Juan Riera",
      "userId": "13936244033390161607"
     },
     "user_tz": -120
    },
    "id": "wX8MS0i9VmGd",
    "outputId": "fe1978bc-7226-4512-e2bb-924b6a84fe95"
   },
   "outputs": [],
   "source": [
    "df2.head()"
   ]
  },
  {
   "cell_type": "code",
   "execution_count": null,
   "metadata": {
    "colab": {
     "base_uri": "https://localhost:8080/",
     "height": 388
    },
    "executionInfo": {
     "elapsed": 1156,
     "status": "ok",
     "timestamp": 1759679783296,
     "user": {
      "displayName": "Juan Riera",
      "userId": "13936244033390161607"
     },
     "user_tz": -120
    },
    "id": "AqgV4r-11O6q",
    "outputId": "7efb17e7-d3be-4bec-feac-078c93772a05"
   },
   "outputs": [],
   "source": [
    "plt.rcParams['figure.figsize'] = (10.0,4.0)\n",
    "g = sns.lineplot(data=df2, x=\"fecha\", y=\"valores\", hue=\"variable\")"
   ]
  },
  {
   "cell_type": "code",
   "execution_count": null,
   "metadata": {
    "executionInfo": {
     "elapsed": 4,
     "status": "ok",
     "timestamp": 1759679787116,
     "user": {
      "displayName": "Juan Riera",
      "userId": "13936244033390161607"
     },
     "user_tz": -120
    },
    "id": "zWwEnzADX-tw"
   },
   "outputs": [],
   "source": [
    "df3 = df2.groupby([df2['fecha'].dt.isocalendar().week, \"variable\"]).mean()"
   ]
  },
  {
   "cell_type": "code",
   "execution_count": null,
   "metadata": {
    "executionInfo": {
     "elapsed": 4,
     "status": "ok",
     "timestamp": 1759679789365,
     "user": {
      "displayName": "Juan Riera",
      "userId": "13936244033390161607"
     },
     "user_tz": -120
    },
    "id": "jwzFemueafws"
   },
   "outputs": [],
   "source": [
    "df3.reset_index(inplace=True)"
   ]
  },
  {
   "cell_type": "code",
   "execution_count": null,
   "metadata": {
    "colab": {
     "base_uri": "https://localhost:8080/",
     "height": 206
    },
    "executionInfo": {
     "elapsed": 47,
     "status": "ok",
     "timestamp": 1759679790636,
     "user": {
      "displayName": "Juan Riera",
      "userId": "13936244033390161607"
     },
     "user_tz": -120
    },
    "id": "ATjArmADdXXM",
    "outputId": "134a61d3-c0cb-41bf-fa04-bd71889411e9"
   },
   "outputs": [],
   "source": [
    "df3.head()"
   ]
  },
  {
   "cell_type": "code",
   "execution_count": null,
   "metadata": {
    "colab": {
     "base_uri": "https://localhost:8080/",
     "height": 388
    },
    "executionInfo": {
     "elapsed": 245,
     "status": "ok",
     "timestamp": 1759679792268,
     "user": {
      "displayName": "Juan Riera",
      "userId": "13936244033390161607"
     },
     "user_tz": -120
    },
    "id": "KB8D7kY2U_gZ",
    "outputId": "87b36140-56ef-47fe-e102-dfd75735d170"
   },
   "outputs": [],
   "source": [
    "plt.rcParams['figure.figsize'] = (10.0,4.0)\n",
    "sns.set_style(\"whitegrid\")\n",
    "g = sns.lineplot(data=df3, x=\"week\", y=\"valores\", hue=\"variable\")"
   ]
  },
  {
   "cell_type": "code",
   "execution_count": null,
   "metadata": {
    "executionInfo": {
     "elapsed": 3,
     "status": "ok",
     "timestamp": 1759679793766,
     "user": {
      "displayName": "Juan Riera",
      "userId": "13936244033390161607"
     },
     "user_tz": -120
    },
    "id": "asRENEq-eg8e"
   },
   "outputs": [],
   "source": [
    "df = pd.read_csv(\"camembert.csv\" , decimal = \",\", sep=\";\")\n",
    "df['fecha']= pd.DatetimeIndex(df.fecha).normalize()\n",
    "df.drop(['fabricacion','mg', 'cloruros','coliformes'], axis=1, inplace = True)"
   ]
  },
  {
   "cell_type": "code",
   "execution_count": null,
   "metadata": {
    "executionInfo": {
     "elapsed": 23,
     "status": "ok",
     "timestamp": 1759679796758,
     "user": {
      "displayName": "Juan Riera",
      "userId": "13936244033390161607"
     },
     "user_tz": -120
    },
    "id": "fReoIAWpfF3f"
   },
   "outputs": [],
   "source": [
    "df2 = df['est'].groupby(df['fecha'].dt.isocalendar().week).agg(['mean','std'])\n"
   ]
  },
  {
   "cell_type": "code",
   "execution_count": null,
   "metadata": {
    "colab": {
     "base_uri": "https://localhost:8080/",
     "height": 237
    },
    "executionInfo": {
     "elapsed": 26,
     "status": "ok",
     "timestamp": 1759679798099,
     "user": {
      "displayName": "Juan Riera",
      "userId": "13936244033390161607"
     },
     "user_tz": -120
    },
    "id": "5YFJbEI4ihsb",
    "outputId": "18526a57-bcb9-43e3-d33b-c6fb906ea530"
   },
   "outputs": [],
   "source": [
    "df2.head()"
   ]
  },
  {
   "cell_type": "code",
   "execution_count": null,
   "metadata": {
    "colab": {
     "base_uri": "https://localhost:8080/",
     "height": 407
    },
    "executionInfo": {
     "elapsed": 185,
     "status": "ok",
     "timestamp": 1759679799590,
     "user": {
      "displayName": "Juan Riera",
      "userId": "13936244033390161607"
     },
     "user_tz": -120
    },
    "id": "GO8157zWfMaH",
    "outputId": "d5f4d2d2-aaa9-4fba-f399-78c4423accc1"
   },
   "outputs": [],
   "source": [
    "df2['mean'].plot();"
   ]
  },
  {
   "cell_type": "code",
   "execution_count": null,
   "metadata": {
    "colab": {
     "base_uri": "https://localhost:8080/",
     "height": 406
    },
    "executionInfo": {
     "elapsed": 144,
     "status": "ok",
     "timestamp": 1759679802612,
     "user": {
      "displayName": "Juan Riera",
      "userId": "13936244033390161607"
     },
     "user_tz": -120
    },
    "id": "69wkJr1bhyJD",
    "outputId": "5349014c-4c61-4d35-ca01-13bd215015a6"
   },
   "outputs": [],
   "source": [
    "df2['std'].plot();"
   ]
  },
  {
   "cell_type": "code",
   "execution_count": null,
   "metadata": {
    "executionInfo": {
     "elapsed": 3,
     "status": "ok",
     "timestamp": 1759679804109,
     "user": {
      "displayName": "Juan Riera",
      "userId": "13936244033390161607"
     },
     "user_tz": -120
    },
    "id": "bn1KWzS7ffq_"
   },
   "outputs": [],
   "source": [
    "LSL = df2['mean'] - 3 * df2['std']    ## lower specification limit\n",
    "USL = df2['mean'] + 3 * df2['std']    ## upper specification limit\n",
    "\n",
    "df2.insert(2,'LSL', LSL)\n",
    "df2.insert(3,'USL', USL)\n",
    "\n",
    "# limite_rechazo = 231    ##\n",
    "# limite_deficientes = 242    ##\n",
    "# df3.insert(5,'rechazo', limite_rechazo)\n",
    "# df3.insert(6,'deficientes', limite_deficientes)\n"
   ]
  },
  {
   "cell_type": "code",
   "execution_count": null,
   "metadata": {
    "colab": {
     "base_uri": "https://localhost:8080/",
     "height": 237
    },
    "executionInfo": {
     "elapsed": 6,
     "status": "ok",
     "timestamp": 1759679805343,
     "user": {
      "displayName": "Juan Riera",
      "userId": "13936244033390161607"
     },
     "user_tz": -120
    },
    "id": "6xy-jrcShfkI",
    "outputId": "b1153728-7c9a-4047-a6c4-89ae0aa57f36"
   },
   "outputs": [],
   "source": [
    "df2.head()"
   ]
  },
  {
   "cell_type": "code",
   "execution_count": null,
   "metadata": {
    "executionInfo": {
     "elapsed": 3,
     "status": "ok",
     "timestamp": 1759679806440,
     "user": {
      "displayName": "Juan Riera",
      "userId": "13936244033390161607"
     },
     "user_tz": -120
    },
    "id": "TGJgFah5jkBI"
   },
   "outputs": [],
   "source": [
    "df2['semana'] = df2.index # necesitamos la semana en una columna de valor\n",
    "df3 = pd.melt(df2, id_vars= ['semana'], value_vars=[\"mean\",\"LSL\", \"USL\"],  value_name=\"valores\")"
   ]
  },
  {
   "cell_type": "code",
   "execution_count": null,
   "metadata": {
    "colab": {
     "base_uri": "https://localhost:8080/",
     "height": 388
    },
    "executionInfo": {
     "elapsed": 501,
     "status": "ok",
     "timestamp": 1759679808911,
     "user": {
      "displayName": "Juan Riera",
      "userId": "13936244033390161607"
     },
     "user_tz": -120
    },
    "id": "aOC9vplkiKHP",
    "outputId": "98e1a3eb-9359-4d43-c2b7-672403e5ee13"
   },
   "outputs": [],
   "source": [
    "g = sns.lineplot(data=df3, x=\"semana\", y=\"valores\", hue=\"variable\")"
   ]
  },
  {
   "cell_type": "code",
   "execution_count": null,
   "metadata": {
    "id": "WqAp43-CkGkI"
   },
   "outputs": [],
   "source": []
  }
 ],
 "metadata": {
  "colab": {
   "provenance": []
  },
  "kernelspec": {
   "display_name": "Python 3",
   "name": "python3"
  },
  "language_info": {
   "name": "python"
  }
 },
 "nbformat": 4,
 "nbformat_minor": 0
}
